{
  "cells": [
    {
      "cell_type": "code",
      "execution_count": 1,
      "metadata": {
        "id": "ipkdKRQX9C75"
      },
      "outputs": [],
      "source": [
        "import os\n",
        "import torch\n",
        "import torchvision.datasets as dset\n",
        "from torch.distributions import Bernoulli\n",
        "import torchvision.transforms as transforms\n",
        "import numpy as np\n",
        "import random\n",
        "from matplotlib import pyplot as plt\n",
        "from scipy.stats import halfnorm"
      ]
    },
    {
      "cell_type": "markdown",
      "metadata": {
        "id": "PqaDHVC39C77"
      },
      "source": [
        "# Deep Reinforcement Learning _in Action_\n",
        "## MNIST Genetic Algorithm"
      ]
    },
    {
      "cell_type": "markdown",
      "metadata": {
        "id": "hLvrJ8Nq9C79"
      },
      "source": [
        "Setup a directory to store the MNIST dataset/"
      ]
    },
    {
      "cell_type": "code",
      "execution_count": 2,
      "metadata": {
        "id": "AOu5ug4z9C79"
      },
      "outputs": [],
      "source": [
        "root = './data'\n",
        "if not os.path.exists(root):\n",
        "    os.mkdir(root)"
      ]
    },
    {
      "cell_type": "markdown",
      "metadata": {
        "id": "9VzvjL5N9C7-"
      },
      "source": [
        "Setup a transformer to normalize the data."
      ]
    },
    {
      "cell_type": "code",
      "execution_count": 3,
      "metadata": {
        "id": "trETdvBX9C7-"
      },
      "outputs": [],
      "source": [
        "trans = transforms.Compose([transforms.ToTensor(), transforms.Normalize((0.5,), (1.0,))])"
      ]
    },
    {
      "cell_type": "code",
      "execution_count": 4,
      "metadata": {
        "colab": {
          "base_uri": "https://localhost:8080/"
        },
        "id": "8xLP8JUF9C7-",
        "outputId": "6b1a40ed-5f44-484d-ff4c-4a3ae2c8cba4"
      },
      "outputs": [
        {
          "output_type": "stream",
          "name": "stdout",
          "text": [
            "Downloading http://yann.lecun.com/exdb/mnist/train-images-idx3-ubyte.gz\n",
            "Failed to download (trying next):\n",
            "HTTP Error 403: Forbidden\n",
            "\n",
            "Downloading https://ossci-datasets.s3.amazonaws.com/mnist/train-images-idx3-ubyte.gz\n",
            "Downloading https://ossci-datasets.s3.amazonaws.com/mnist/train-images-idx3-ubyte.gz to ./data/MNIST/raw/train-images-idx3-ubyte.gz\n"
          ]
        },
        {
          "output_type": "stream",
          "name": "stderr",
          "text": [
            "100%|██████████| 9.91M/9.91M [00:02<00:00, 4.58MB/s]\n"
          ]
        },
        {
          "output_type": "stream",
          "name": "stdout",
          "text": [
            "Extracting ./data/MNIST/raw/train-images-idx3-ubyte.gz to ./data/MNIST/raw\n",
            "\n",
            "Downloading http://yann.lecun.com/exdb/mnist/train-labels-idx1-ubyte.gz\n",
            "Failed to download (trying next):\n",
            "HTTP Error 403: Forbidden\n",
            "\n",
            "Downloading https://ossci-datasets.s3.amazonaws.com/mnist/train-labels-idx1-ubyte.gz\n",
            "Downloading https://ossci-datasets.s3.amazonaws.com/mnist/train-labels-idx1-ubyte.gz to ./data/MNIST/raw/train-labels-idx1-ubyte.gz\n"
          ]
        },
        {
          "output_type": "stream",
          "name": "stderr",
          "text": [
            "100%|██████████| 28.9k/28.9k [00:00<00:00, 135kB/s]\n"
          ]
        },
        {
          "output_type": "stream",
          "name": "stdout",
          "text": [
            "Extracting ./data/MNIST/raw/train-labels-idx1-ubyte.gz to ./data/MNIST/raw\n",
            "\n",
            "Downloading http://yann.lecun.com/exdb/mnist/t10k-images-idx3-ubyte.gz\n",
            "Failed to download (trying next):\n",
            "HTTP Error 403: Forbidden\n",
            "\n",
            "Downloading https://ossci-datasets.s3.amazonaws.com/mnist/t10k-images-idx3-ubyte.gz\n",
            "Downloading https://ossci-datasets.s3.amazonaws.com/mnist/t10k-images-idx3-ubyte.gz to ./data/MNIST/raw/t10k-images-idx3-ubyte.gz\n"
          ]
        },
        {
          "output_type": "stream",
          "name": "stderr",
          "text": [
            "100%|██████████| 1.65M/1.65M [00:01<00:00, 1.27MB/s]\n"
          ]
        },
        {
          "output_type": "stream",
          "name": "stdout",
          "text": [
            "Extracting ./data/MNIST/raw/t10k-images-idx3-ubyte.gz to ./data/MNIST/raw\n",
            "\n",
            "Downloading http://yann.lecun.com/exdb/mnist/t10k-labels-idx1-ubyte.gz\n",
            "Failed to download (trying next):\n",
            "HTTP Error 403: Forbidden\n",
            "\n",
            "Downloading https://ossci-datasets.s3.amazonaws.com/mnist/t10k-labels-idx1-ubyte.gz\n",
            "Downloading https://ossci-datasets.s3.amazonaws.com/mnist/t10k-labels-idx1-ubyte.gz to ./data/MNIST/raw/t10k-labels-idx1-ubyte.gz\n"
          ]
        },
        {
          "output_type": "stream",
          "name": "stderr",
          "text": [
            "100%|██████████| 4.54k/4.54k [00:00<00:00, 8.94MB/s]"
          ]
        },
        {
          "output_type": "stream",
          "name": "stdout",
          "text": [
            "Extracting ./data/MNIST/raw/t10k-labels-idx1-ubyte.gz to ./data/MNIST/raw\n",
            "\n"
          ]
        },
        {
          "output_type": "stream",
          "name": "stderr",
          "text": [
            "\n"
          ]
        }
      ],
      "source": [
        "train_set = dset.MNIST(root=root, train=True, transform=trans, download=True)\n",
        "test_set = dset.MNIST(root=root, train=False, transform=trans, download=True)"
      ]
    },
    {
      "cell_type": "code",
      "execution_count": 5,
      "metadata": {
        "id": "Rb2qNN739C7_"
      },
      "outputs": [],
      "source": [
        "batch_size = 100\n",
        "\n",
        "train_loader = torch.utils.data.DataLoader(\n",
        "                 dataset=train_set,\n",
        "                 batch_size=batch_size,\n",
        "                 shuffle=True)\n",
        "test_loader = torch.utils.data.DataLoader(\n",
        "                dataset=test_set,\n",
        "                batch_size=batch_size,\n",
        "                shuffle=False)"
      ]
    },
    {
      "cell_type": "markdown",
      "metadata": {
        "id": "53sERqAF9C7_"
      },
      "source": [
        "We define a simple linear classifier (or you can think of it as a single layer neural network). It simply multiplies a weight/parameter matrix by the input vector and applies a softmax."
      ]
    },
    {
      "cell_type": "code",
      "execution_count": 6,
      "metadata": {
        "id": "12XSb0te9C8A"
      },
      "outputs": [],
      "source": [
        "x = next(iter(train_loader))[0]"
      ]
    },
    {
      "cell_type": "code",
      "execution_count": 7,
      "metadata": {
        "id": "Hl2Vj-Mq9C8A"
      },
      "outputs": [],
      "source": [
        "x = x.reshape(100,784)"
      ]
    },
    {
      "cell_type": "code",
      "execution_count": 8,
      "metadata": {
        "id": "4gE0ZiMP9C8A"
      },
      "outputs": [],
      "source": [
        "class Individual:\n",
        "    def __init__(self,param, fitness=0):\n",
        "        self.param = param\n",
        "        self.fitness = fitness"
      ]
    },
    {
      "cell_type": "code",
      "execution_count": 9,
      "metadata": {
        "id": "4PhwuiD59C8D"
      },
      "outputs": [],
      "source": [
        "def model(x,W):\n",
        "    return torch.nn.Softmax()(x @ W)"
      ]
    },
    {
      "cell_type": "code",
      "execution_count": 10,
      "metadata": {
        "colab": {
          "base_uri": "https://localhost:8080/"
        },
        "id": "bkQa1Nr49C8D",
        "outputId": "206409ba-a5c3-430c-d7fd-97e8c00c9d96"
      },
      "outputs": [
        {
          "output_type": "stream",
          "name": "stderr",
          "text": [
            "/usr/local/lib/python3.10/dist-packages/torch/nn/modules/module.py:1736: UserWarning: Implicit dimension choice for softmax has been deprecated. Change the call to include dim=X as an argument.\n",
            "  return self._call_impl(*args, **kwargs)\n"
          ]
        },
        {
          "output_type": "execute_result",
          "data": {
            "text/plain": [
              "tensor([[8.0415e-02, 8.1564e-01, 1.2993e-04, 9.6205e-06, 4.2607e-02, 3.4510e-03,\n",
              "         1.3468e-07, 1.9071e-02, 2.5992e-06, 3.8671e-02],\n",
              "        [3.2615e-03, 3.4417e-01, 4.7348e-03, 1.3144e-05, 1.3643e-02, 1.4172e-02,\n",
              "         3.9150e-09, 5.4895e-01, 4.4521e-04, 7.0611e-02],\n",
              "        [4.4648e-03, 7.6824e-02, 7.2382e-05, 5.6112e-07, 1.2557e-03, 2.3035e-02,\n",
              "         1.1520e-06, 6.4408e-02, 4.3808e-01, 3.9186e-01],\n",
              "        [8.5329e-03, 4.1015e-02, 1.2636e-05, 1.2556e-02, 4.1619e-02, 2.5481e-03,\n",
              "         1.5834e-06, 7.6383e-01, 1.1411e-01, 1.5775e-02],\n",
              "        [3.8271e-03, 9.6311e-01, 2.7506e-04, 6.0384e-08, 6.0083e-03, 4.0148e-05,\n",
              "         2.8470e-07, 2.4852e-02, 1.2288e-05, 1.8718e-03],\n",
              "        [3.0855e-04, 9.6496e-01, 4.7564e-06, 3.5664e-08, 3.9281e-03, 4.3679e-04,\n",
              "         1.5278e-07, 5.1244e-03, 2.5232e-06, 2.5238e-02],\n",
              "        [1.3340e-03, 9.1259e-01, 6.6844e-04, 3.8541e-08, 6.2315e-02, 4.9240e-05,\n",
              "         1.1281e-08, 3.8940e-03, 7.3159e-05, 1.9081e-02],\n",
              "        [1.1898e-03, 6.2337e-01, 8.8488e-04, 1.3893e-04, 6.8992e-03, 9.0228e-04,\n",
              "         9.5037e-08, 3.5749e-01, 4.8724e-06, 9.1186e-03],\n",
              "        [3.8801e-03, 7.7599e-01, 3.3482e-04, 5.1279e-07, 5.1392e-03, 1.9248e-03,\n",
              "         4.6791e-07, 1.1186e-03, 1.4957e-04, 2.1146e-01],\n",
              "        [3.5903e-02, 1.5203e-01, 1.5284e-02, 2.6414e-04, 8.3590e-02, 1.2019e-03,\n",
              "         1.2821e-06, 2.0415e-01, 5.0537e-06, 5.0757e-01],\n",
              "        [9.7387e-05, 1.2225e-02, 1.5055e-04, 1.4157e-06, 8.0727e-03, 3.5661e-05,\n",
              "         6.3507e-09, 6.9839e-01, 4.4082e-05, 2.8099e-01],\n",
              "        [1.8253e-02, 9.4580e-01, 3.0343e-05, 2.7677e-07, 3.1126e-02, 5.4875e-05,\n",
              "         1.3329e-07, 2.5267e-03, 4.1112e-06, 2.2020e-03],\n",
              "        [5.0941e-05, 4.6789e-01, 1.2180e-06, 1.0667e-07, 6.0021e-03, 4.6301e-06,\n",
              "         2.5585e-09, 5.2595e-01, 5.2568e-07, 9.6279e-05],\n",
              "        [1.4467e-02, 3.8694e-01, 1.3918e-05, 6.2521e-03, 5.0485e-02, 5.3867e-03,\n",
              "         1.0981e-03, 2.9109e-01, 3.1321e-02, 2.1294e-01],\n",
              "        [6.7576e-03, 9.0026e-01, 3.4923e-05, 1.6818e-05, 1.7586e-02, 1.5133e-05,\n",
              "         1.8281e-07, 4.3425e-02, 6.4653e-06, 3.1897e-02],\n",
              "        [8.2628e-03, 2.1488e-01, 2.2739e-03, 5.8528e-06, 9.2986e-02, 8.7814e-03,\n",
              "         6.2895e-06, 2.9515e-01, 3.5948e-04, 3.7729e-01],\n",
              "        [5.7061e-04, 1.0565e-01, 1.0358e-04, 3.4436e-06, 8.4840e-01, 1.3323e-05,\n",
              "         5.5322e-09, 6.6808e-03, 7.9505e-07, 3.8576e-02],\n",
              "        [1.6191e-03, 6.5627e-01, 2.8112e-04, 1.6838e-06, 7.6847e-04, 9.7009e-04,\n",
              "         2.3789e-07, 3.3692e-01, 9.0998e-05, 3.0769e-03],\n",
              "        [9.5131e-02, 3.6420e-01, 2.8882e-03, 4.8261e-05, 3.5425e-02, 3.1137e-04,\n",
              "         8.7276e-08, 4.9087e-01, 9.8103e-03, 1.3160e-03],\n",
              "        [2.2939e-04, 6.8095e-03, 1.3946e-05, 2.9990e-08, 2.8031e-02, 1.2481e-05,\n",
              "         3.1187e-08, 2.0813e-02, 1.8602e-06, 9.4409e-01],\n",
              "        [4.9992e-03, 8.8370e-01, 3.3655e-05, 9.1836e-09, 8.1753e-04, 3.7469e-04,\n",
              "         9.3278e-09, 7.3816e-02, 1.1171e-04, 3.6148e-02],\n",
              "        [2.7197e-04, 2.8010e-01, 3.4842e-05, 3.6522e-05, 4.0104e-04, 1.6039e-02,\n",
              "         5.9016e-09, 6.2543e-01, 9.7494e-05, 7.7589e-02],\n",
              "        [1.3590e-03, 4.2945e-01, 4.5171e-04, 5.1784e-04, 1.9401e-02, 7.1376e-05,\n",
              "         5.1492e-07, 1.1301e-01, 4.0899e-05, 4.3570e-01],\n",
              "        [1.4923e-02, 9.4416e-01, 7.0825e-04, 1.8011e-05, 2.5932e-03, 1.0166e-03,\n",
              "         6.6189e-08, 2.0349e-02, 7.3868e-05, 1.6154e-02],\n",
              "        [2.0775e-02, 5.7018e-02, 2.1381e-04, 5.3838e-06, 3.1517e-03, 4.6626e-04,\n",
              "         2.8070e-07, 9.1002e-01, 1.8728e-05, 8.3275e-03],\n",
              "        [1.8031e-02, 4.5464e-01, 5.3060e-05, 3.8009e-06, 3.4553e-01, 2.1729e-04,\n",
              "         8.1516e-08, 4.7266e-02, 8.3333e-07, 1.3426e-01],\n",
              "        [1.1411e-02, 5.6048e-01, 3.1270e-06, 1.9443e-04, 1.6901e-01, 1.1534e-02,\n",
              "         1.0668e-04, 2.3769e-01, 2.4737e-03, 7.1066e-03],\n",
              "        [3.9763e-02, 3.5405e-01, 9.8084e-05, 1.0100e-05, 4.0695e-01, 2.8002e-04,\n",
              "         1.1298e-06, 7.4344e-02, 1.1680e-05, 1.2449e-01],\n",
              "        [1.4067e-03, 7.6921e-01, 1.7387e-04, 5.4952e-07, 5.7688e-03, 2.7832e-04,\n",
              "         1.9951e-08, 2.1972e-01, 9.3775e-04, 2.5119e-03],\n",
              "        [1.3458e-01, 3.5384e-01, 1.3761e-04, 1.7921e-06, 4.0443e-01, 7.9031e-03,\n",
              "         2.1768e-07, 5.2122e-02, 1.5454e-04, 4.6829e-02],\n",
              "        [3.3197e-03, 9.2742e-01, 3.0144e-04, 1.3417e-04, 6.1596e-03, 1.5375e-05,\n",
              "         8.9539e-08, 2.9670e-02, 5.7291e-05, 3.2920e-02],\n",
              "        [2.7906e-04, 8.9841e-01, 6.4599e-04, 4.8455e-07, 4.2253e-04, 1.0348e-04,\n",
              "         3.3307e-09, 8.3456e-02, 1.4193e-03, 1.5267e-02],\n",
              "        [5.5837e-03, 4.6163e-01, 2.3328e-04, 1.3052e-03, 1.9388e-01, 6.2393e-04,\n",
              "         3.9329e-07, 2.2521e-01, 6.6636e-06, 1.1152e-01],\n",
              "        [5.0776e-03, 3.1783e-01, 1.9257e-03, 6.8531e-06, 1.2018e-02, 3.3450e-03,\n",
              "         1.6046e-07, 6.1235e-01, 8.5437e-03, 3.8897e-02],\n",
              "        [3.8672e-02, 5.3593e-01, 9.5490e-06, 7.2659e-06, 1.8922e-01, 5.0381e-04,\n",
              "         1.8432e-07, 1.1865e-02, 3.2062e-06, 2.2379e-01],\n",
              "        [4.6257e-02, 4.4494e-01, 2.7588e-03, 2.4199e-04, 6.3812e-02, 1.9591e-03,\n",
              "         1.9641e-07, 5.0009e-02, 4.1106e-05, 3.8998e-01],\n",
              "        [9.2347e-03, 2.0360e-01, 5.2330e-04, 2.0666e-04, 2.2417e-03, 1.4756e-03,\n",
              "         4.9396e-07, 7.7024e-01, 1.4329e-04, 1.2338e-02],\n",
              "        [1.3763e-04, 9.4040e-01, 1.8607e-07, 2.4801e-06, 4.5207e-03, 1.6286e-04,\n",
              "         9.0328e-09, 5.4694e-02, 3.8015e-05, 4.5267e-05],\n",
              "        [1.2745e-03, 9.5920e-01, 2.0386e-04, 3.2274e-07, 1.5600e-02, 9.4016e-06,\n",
              "         1.7758e-08, 2.3313e-02, 9.1578e-06, 3.8776e-04],\n",
              "        [1.3559e-03, 1.1159e-01, 6.1612e-04, 2.2355e-06, 2.0435e-01, 4.2418e-04,\n",
              "         2.4304e-07, 2.8578e-01, 1.0496e-04, 3.9578e-01],\n",
              "        [4.3546e-03, 3.6728e-02, 6.8079e-04, 1.8295e-05, 1.6674e-04, 8.1789e-04,\n",
              "         1.7007e-07, 9.1183e-01, 2.4244e-04, 4.5164e-02],\n",
              "        [1.3340e-04, 4.7725e-01, 9.2921e-05, 1.5384e-07, 2.4634e-02, 2.8618e-05,\n",
              "         7.4142e-09, 3.9532e-01, 3.3566e-05, 1.0251e-01],\n",
              "        [2.7391e-03, 3.5303e-01, 7.1747e-03, 1.1808e-04, 4.9178e-01, 1.4714e-03,\n",
              "         8.7059e-08, 9.2949e-02, 6.7826e-03, 4.3956e-02],\n",
              "        [9.0263e-04, 2.7322e-01, 5.9843e-05, 1.2552e-07, 7.9608e-02, 2.1742e-04,\n",
              "         2.5077e-08, 2.6427e-02, 3.1774e-05, 6.1954e-01],\n",
              "        [2.8718e-02, 4.0254e-01, 1.3121e-05, 9.4877e-07, 2.4287e-02, 2.7524e-04,\n",
              "         9.8601e-09, 4.3496e-01, 6.4652e-05, 1.0914e-01],\n",
              "        [7.4334e-02, 8.2155e-01, 7.5390e-04, 6.9432e-07, 1.1685e-02, 4.5319e-04,\n",
              "         7.6928e-07, 2.1488e-02, 5.6897e-05, 6.9679e-02],\n",
              "        [2.9876e-05, 3.4084e-02, 1.5455e-04, 8.0174e-07, 3.2775e-03, 3.5912e-06,\n",
              "         3.8171e-08, 9.5161e-01, 9.5807e-03, 1.2600e-03],\n",
              "        [1.4708e-04, 5.0370e-01, 7.1981e-03, 8.2517e-08, 4.9966e-04, 5.8395e-04,\n",
              "         1.5272e-07, 4.4898e-01, 7.9853e-04, 3.8093e-02],\n",
              "        [1.0928e-03, 1.0518e-02, 6.7430e-05, 1.3510e-06, 9.3719e-02, 2.8877e-04,\n",
              "         4.9463e-06, 2.6295e-01, 1.5261e-05, 6.3134e-01],\n",
              "        [6.3279e-05, 6.2244e-02, 5.1950e-05, 7.5238e-06, 6.3160e-03, 2.6505e-04,\n",
              "         1.5298e-08, 8.9423e-01, 6.2477e-04, 3.6201e-02],\n",
              "        [1.3444e-03, 2.6878e-01, 2.2050e-03, 5.4003e-05, 1.5057e-02, 1.1260e-03,\n",
              "         4.6308e-09, 6.1025e-02, 4.5351e-05, 6.5036e-01],\n",
              "        [8.0292e-03, 1.4014e-01, 7.4458e-04, 5.2448e-07, 5.0323e-03, 5.0738e-04,\n",
              "         3.2880e-07, 8.3779e-01, 2.8349e-06, 7.7513e-03],\n",
              "        [6.8422e-04, 2.8222e-01, 4.1594e-05, 5.1866e-07, 2.7234e-02, 3.4916e-04,\n",
              "         7.4667e-09, 2.1069e-01, 1.9984e-05, 4.7876e-01],\n",
              "        [2.0789e-02, 8.5682e-01, 2.9495e-03, 8.7248e-07, 1.6423e-02, 3.6907e-05,\n",
              "         1.2348e-07, 1.0088e-01, 5.4642e-05, 2.0440e-03],\n",
              "        [2.4177e-04, 3.8237e-01, 2.8122e-04, 1.2362e-06, 1.4076e-02, 2.7565e-05,\n",
              "         3.5347e-09, 3.3232e-01, 2.2573e-05, 2.7066e-01],\n",
              "        [1.3844e-02, 4.2637e-01, 5.1432e-02, 3.4681e-05, 2.5038e-02, 1.0684e-02,\n",
              "         3.4336e-06, 4.5101e-01, 1.3701e-03, 2.0207e-02],\n",
              "        [5.8534e-05, 1.5635e-01, 3.5353e-03, 8.3477e-07, 1.0772e-03, 1.6159e-05,\n",
              "         8.2015e-10, 8.3824e-01, 1.7392e-05, 6.9794e-04],\n",
              "        [8.1842e-04, 7.7650e-02, 5.7369e-03, 7.6327e-06, 1.3824e-02, 2.8972e-04,\n",
              "         3.7392e-09, 1.4349e-01, 9.7751e-05, 7.5809e-01],\n",
              "        [6.7199e-04, 4.8553e-01, 3.1327e-04, 2.1806e-07, 2.3680e-02, 8.6126e-05,\n",
              "         1.1784e-09, 3.4111e-01, 3.0146e-05, 1.4858e-01],\n",
              "        [7.7304e-03, 3.1494e-01, 9.6789e-04, 9.4061e-08, 1.3624e-03, 5.5807e-04,\n",
              "         3.5291e-07, 4.0255e-01, 7.9858e-04, 2.7109e-01],\n",
              "        [3.2116e-04, 3.7032e-01, 1.4035e-04, 5.6247e-08, 1.7704e-02, 2.3751e-05,\n",
              "         1.5199e-08, 6.0924e-01, 6.5560e-04, 1.5945e-03],\n",
              "        [3.6952e-04, 4.2815e-02, 1.0555e-03, 3.4020e-05, 6.0967e-04, 2.6765e-03,\n",
              "         1.6604e-06, 9.5164e-01, 5.6685e-04, 2.3590e-04],\n",
              "        [1.2660e-02, 2.4435e-01, 2.9225e-02, 1.4138e-05, 1.4103e-01, 1.1219e-03,\n",
              "         7.0473e-06, 5.3736e-01, 1.2668e-03, 3.2967e-02],\n",
              "        [3.7321e-03, 4.8452e-01, 2.9116e-04, 8.8265e-03, 6.4733e-03, 8.5842e-04,\n",
              "         4.4267e-07, 4.5203e-01, 4.6943e-04, 4.2797e-02],\n",
              "        [6.1872e-05, 1.0805e-01, 3.2596e-04, 9.6143e-06, 1.8823e-03, 4.3095e-06,\n",
              "         7.5741e-08, 8.5687e-01, 6.5377e-06, 3.2782e-02],\n",
              "        [5.9413e-03, 3.9053e-01, 1.5411e-03, 8.7076e-06, 2.5630e-01, 8.4822e-04,\n",
              "         2.9768e-06, 9.1117e-02, 9.4896e-07, 2.5371e-01],\n",
              "        [8.4304e-03, 1.9882e-01, 1.3012e-04, 3.8885e-06, 1.6324e-02, 2.2377e-05,\n",
              "         3.8968e-09, 7.7294e-01, 4.6442e-06, 3.3295e-03],\n",
              "        [8.2777e-04, 4.7390e-02, 8.9932e-05, 2.0662e-05, 2.4322e-03, 3.3671e-04,\n",
              "         6.3738e-08, 9.4209e-01, 2.0240e-05, 6.7909e-03],\n",
              "        [3.4825e-05, 9.9000e-01, 1.2309e-06, 7.6825e-08, 8.1621e-03, 1.1311e-06,\n",
              "         5.7481e-10, 3.1345e-04, 5.8181e-08, 1.4894e-03],\n",
              "        [3.3674e-03, 3.2479e-01, 1.9664e-01, 9.2812e-03, 9.7407e-02, 7.5484e-05,\n",
              "         4.8501e-08, 9.4397e-02, 2.7515e-04, 2.7377e-01],\n",
              "        [1.7704e-04, 5.2111e-01, 6.3440e-05, 2.4752e-07, 3.4107e-03, 6.6541e-05,\n",
              "         9.6403e-09, 4.6006e-01, 2.2023e-05, 1.5093e-02],\n",
              "        [1.8614e-02, 6.7854e-01, 2.1639e-05, 8.2073e-07, 2.9561e-01, 6.5296e-05,\n",
              "         1.0961e-07, 4.7307e-03, 5.7751e-06, 2.4184e-03],\n",
              "        [1.2794e-02, 1.3957e-01, 6.6920e-04, 1.6101e-05, 1.9231e-03, 4.4398e-03,\n",
              "         7.2585e-08, 4.1584e-01, 2.2182e-05, 4.2472e-01],\n",
              "        [9.7913e-03, 1.2892e-01, 7.0639e-05, 1.2798e-05, 2.2025e-03, 3.4844e-03,\n",
              "         1.7568e-06, 3.2732e-02, 6.1512e-04, 8.2217e-01],\n",
              "        [5.7373e-03, 6.2891e-01, 1.1299e-01, 3.2352e-03, 1.1864e-01, 9.6065e-05,\n",
              "         1.4261e-08, 4.1170e-02, 1.4708e-04, 8.9074e-02],\n",
              "        [3.0113e-03, 7.0131e-01, 5.5832e-05, 1.4281e-07, 7.7579e-03, 2.4791e-04,\n",
              "         2.1390e-07, 2.7582e-01, 2.0198e-05, 1.1781e-02],\n",
              "        [1.4155e-03, 5.2339e-01, 5.7526e-04, 2.4491e-06, 9.3183e-02, 1.0727e-05,\n",
              "         5.8704e-09, 3.6876e-01, 3.8640e-05, 1.2626e-02],\n",
              "        [2.1276e-03, 9.3859e-01, 2.3011e-05, 2.1425e-08, 3.6777e-03, 4.4381e-05,\n",
              "         1.8494e-08, 2.2657e-03, 7.6364e-06, 5.3265e-02],\n",
              "        [1.2676e-04, 8.7471e-02, 2.0244e-04, 1.8154e-06, 1.3863e-01, 7.6489e-04,\n",
              "         1.3527e-08, 6.6018e-02, 8.9865e-05, 7.0669e-01],\n",
              "        [1.8658e-04, 9.5138e-01, 2.1954e-05, 7.3332e-08, 1.1725e-03, 7.8875e-06,\n",
              "         8.9081e-10, 4.7115e-02, 1.0006e-05, 1.0652e-04],\n",
              "        [2.1506e-01, 5.2129e-01, 1.1584e-03, 1.9090e-03, 2.9672e-03, 1.0721e-03,\n",
              "         4.6943e-06, 2.3829e-01, 8.9206e-03, 9.3273e-03],\n",
              "        [5.6897e-03, 4.2555e-01, 1.1685e-03, 2.3604e-06, 2.1101e-01, 2.2392e-04,\n",
              "         1.5456e-07, 9.3288e-03, 3.9317e-05, 3.4698e-01],\n",
              "        [3.6576e-04, 2.4126e-01, 8.3879e-04, 5.0124e-06, 1.2259e-02, 4.6114e-05,\n",
              "         4.1149e-09, 7.1788e-01, 9.0103e-05, 2.7259e-02],\n",
              "        [2.6547e-04, 8.3516e-01, 1.7881e-05, 7.1344e-07, 8.5711e-02, 3.7633e-05,\n",
              "         8.5279e-11, 7.6248e-02, 2.8463e-06, 2.5577e-03],\n",
              "        [7.7338e-04, 6.5063e-03, 1.5366e-06, 2.2676e-06, 8.0867e-01, 6.3433e-08,\n",
              "         1.0199e-07, 1.8172e-01, 1.7524e-06, 2.3237e-03],\n",
              "        [3.7776e-04, 1.9788e-01, 7.3001e-04, 2.6238e-03, 8.9404e-02, 5.7614e-04,\n",
              "         1.9986e-09, 7.0801e-01, 4.8947e-06, 3.9341e-04],\n",
              "        [4.1729e-05, 6.5698e-02, 5.8507e-05, 7.9313e-06, 5.8064e-03, 2.2499e-05,\n",
              "         2.0401e-09, 7.3928e-01, 4.0924e-04, 1.8868e-01],\n",
              "        [1.1888e-03, 1.0545e-01, 6.5198e-05, 1.3603e-04, 4.8355e-02, 1.5564e-04,\n",
              "         7.8033e-06, 8.1813e-01, 1.1662e-04, 2.6394e-02],\n",
              "        [8.5891e-04, 9.0032e-01, 4.9662e-05, 2.7603e-06, 2.6527e-02, 1.1620e-03,\n",
              "         2.3398e-08, 1.6215e-02, 3.5642e-04, 5.4512e-02],\n",
              "        [2.8696e-02, 2.0569e-01, 2.0498e-05, 1.1515e-03, 9.4689e-02, 2.3490e-03,\n",
              "         7.4456e-06, 6.3277e-01, 5.0904e-04, 3.4124e-02],\n",
              "        [1.1470e-04, 7.1505e-01, 1.1965e-03, 1.9837e-06, 1.1151e-03, 4.5427e-05,\n",
              "         4.4819e-09, 9.4420e-02, 6.7576e-03, 1.8130e-01],\n",
              "        [1.5986e-03, 8.0002e-01, 5.3812e-05, 3.0810e-06, 2.5193e-02, 3.8749e-05,\n",
              "         1.5387e-07, 1.7202e-01, 3.0227e-04, 7.6448e-04],\n",
              "        [1.5732e-03, 3.9318e-01, 2.4715e-05, 3.4938e-05, 5.8232e-02, 2.6224e-04,\n",
              "         1.0580e-07, 5.3914e-01, 2.4490e-07, 7.5527e-03],\n",
              "        [4.2949e-03, 9.8650e-01, 8.3974e-06, 2.8187e-08, 1.6568e-03, 6.7730e-05,\n",
              "         1.9352e-08, 6.5341e-03, 4.7798e-05, 8.9232e-04],\n",
              "        [2.0479e-03, 7.1675e-03, 1.0440e-05, 9.1672e-07, 8.4921e-04, 4.4861e-05,\n",
              "         2.1797e-07, 8.8518e-01, 6.5913e-06, 1.0469e-01],\n",
              "        [3.6270e-04, 3.0208e-01, 3.2706e-05, 2.1502e-03, 3.0376e-02, 1.6165e-03,\n",
              "         9.0054e-06, 1.7820e-01, 2.8302e-04, 4.8489e-01],\n",
              "        [5.0746e-04, 4.4941e-01, 7.1005e-05, 4.7867e-05, 4.2252e-03, 2.1288e-04,\n",
              "         7.9893e-08, 5.3078e-01, 1.5910e-03, 1.3147e-02],\n",
              "        [1.3471e-02, 2.8231e-01, 1.9417e-03, 6.4138e-05, 3.0130e-01, 8.5632e-04,\n",
              "         9.6918e-07, 1.0599e-01, 5.2202e-06, 2.9405e-01],\n",
              "        [1.3507e-03, 4.7431e-01, 3.0526e-03, 2.1391e-05, 2.6550e-02, 9.4171e-04,\n",
              "         1.8822e-08, 3.8695e-01, 2.2174e-04, 1.0661e-01],\n",
              "        [1.3466e-04, 7.9940e-01, 1.0717e-03, 8.6877e-07, 5.1741e-03, 4.5996e-06,\n",
              "         7.3613e-10, 1.8814e-01, 8.5942e-06, 6.0582e-03]])"
            ]
          },
          "metadata": {},
          "execution_count": 10
        }
      ],
      "source": [
        "model(x,torch.rand(784,10))"
      ]
    },
    {
      "cell_type": "code",
      "execution_count": 11,
      "metadata": {
        "id": "fUXXAhaF9C8D"
      },
      "outputs": [],
      "source": [
        "def spawn_population(param_size=(784,10),pop_size=1000):\n",
        "    return [Individual(torch.randn(*param_size)) for i in range(pop_size)]"
      ]
    },
    {
      "cell_type": "code",
      "execution_count": 12,
      "metadata": {
        "id": "3U9TUOf59C8D"
      },
      "outputs": [],
      "source": [
        "loss_fn = torch.nn.CrossEntropyLoss()"
      ]
    },
    {
      "cell_type": "code",
      "execution_count": 13,
      "metadata": {
        "colab": {
          "base_uri": "https://localhost:8080/"
        },
        "id": "fg-c3aBf9C8E",
        "outputId": "cb16d45d-9df2-4125-f5fd-d0791e0ab735"
      },
      "outputs": [
        {
          "output_type": "execute_result",
          "data": {
            "text/plain": [
              "5"
            ]
          },
          "metadata": {},
          "execution_count": 13
        }
      ],
      "source": [
        "random.randint(0,10)"
      ]
    },
    {
      "cell_type": "code",
      "execution_count": 14,
      "metadata": {
        "id": "eZxkYX3J9C8E"
      },
      "outputs": [],
      "source": [
        "def evaluate_population(pop):\n",
        "    avg_fit = 0 #avg population fitness\n",
        "    for individual in pop:\n",
        "        x,y = next(iter(train_loader))\n",
        "        pred = model(x.reshape(batch_size,784),individual.param)\n",
        "        loss = loss_fn(pred,y)\n",
        "        fit = loss\n",
        "        individual.fitness = 1.0 / fit\n",
        "        avg_fit += fit\n",
        "    avg_fit = avg_fit / len(pop)\n",
        "    return pop, avg_fit"
      ]
    },
    {
      "cell_type": "code",
      "execution_count": 15,
      "metadata": {
        "id": "QgiYYUCX9C8E"
      },
      "outputs": [],
      "source": [
        "def recombine(x1,x2): #x1,x2 : Individual\n",
        "    w1 = x1.param.view(-1) #flatten\n",
        "    w2 = x2.param.view(-1)\n",
        "    cross_pt = random.randint(0,w1.shape[0])\n",
        "    child1 = torch.zeros(w1.shape)\n",
        "    child2 = torch.zeros(w1.shape)\n",
        "    child1[0:cross_pt] = w1[0:cross_pt]\n",
        "    child1[cross_pt:] = w2[cross_pt:]\n",
        "    child2[0:cross_pt] = w2[0:cross_pt]\n",
        "    child2[cross_pt:] = w1[cross_pt:]\n",
        "    child1 = child1.reshape(784,10)\n",
        "    child2 = child2.reshape(784,10)\n",
        "    c1 = Individual(child1)\n",
        "    c2 = Individual(child2)\n",
        "    return [c1,c2]"
      ]
    },
    {
      "cell_type": "code",
      "execution_count": 16,
      "metadata": {
        "id": "QRHrOA4F9C8E"
      },
      "outputs": [],
      "source": [
        "def mutate(pop, mut_rate=0.01):\n",
        "    param_shape = pop[0].param.shape\n",
        "    l = torch.zeros(*param_shape)\n",
        "    l[:] = mut_rate\n",
        "    m = Bernoulli(l)\n",
        "    for individual in pop:\n",
        "        mut_vector = m.sample() * torch.randn(*param_shape)\n",
        "        individual.param = mut_vector + individual.param\n",
        "    return pop"
      ]
    },
    {
      "cell_type": "code",
      "execution_count": 17,
      "metadata": {
        "id": "SodKuoFW9C8F"
      },
      "outputs": [],
      "source": [
        "def seed_next_population(pop,pop_size=1000, mut_rate=0.01):\n",
        "    new_pop = []\n",
        "    while len(new_pop) < pop_size: #until new pop is full\n",
        "        parents = random.choices(pop,k=2, weights=[x.fitness for x in pop])\n",
        "        offspring = recombine(parents[0],parents[1])\n",
        "        new_pop.extend(offspring)\n",
        "    new_pop = mutate(new_pop,mut_rate)\n",
        "    return new_pop"
      ]
    },
    {
      "cell_type": "code",
      "execution_count": 18,
      "metadata": {
        "id": "Kpa_GPzd9C8F"
      },
      "outputs": [],
      "source": [
        "pop = spawn_population()"
      ]
    },
    {
      "cell_type": "code",
      "execution_count": 19,
      "metadata": {
        "colab": {
          "base_uri": "https://localhost:8080/"
        },
        "id": "MyhHKavd9C8F",
        "outputId": "f75d7d4d-8861-418f-b60d-a7f86be647ae"
      },
      "outputs": [
        {
          "output_type": "stream",
          "name": "stdout",
          "text": [
            "CPU times: user 23.9 s, sys: 54.7 ms, total: 24 s\n",
            "Wall time: 24.1 s\n"
          ]
        }
      ],
      "source": [
        "%%time\n",
        "pop, avg_fit = evaluate_population(pop)"
      ]
    },
    {
      "cell_type": "code",
      "execution_count": 20,
      "metadata": {
        "id": "RVpHXL7t9C8F"
      },
      "outputs": [],
      "source": [
        "new_pop = seed_next_population(pop)"
      ]
    },
    {
      "cell_type": "code",
      "execution_count": 21,
      "metadata": {
        "colab": {
          "base_uri": "https://localhost:8080/"
        },
        "id": "GvhAVtlx9C8F",
        "outputId": "dbfc3ad0-687b-4a7c-f25d-cdb24968c079"
      },
      "outputs": [
        {
          "output_type": "execute_result",
          "data": {
            "text/plain": [
              "1000"
            ]
          },
          "metadata": {},
          "execution_count": 21
        }
      ],
      "source": [
        "len(new_pop)"
      ]
    },
    {
      "cell_type": "markdown",
      "metadata": {
        "id": "xHKyHoOH9C8F"
      },
      "source": [
        "Now we need to spawn a population of weight matrices, run the model using the different individuals, calculate the loss for each one, and then breed the ones with the highest fitness score (lowest loss)."
      ]
    },
    {
      "cell_type": "code",
      "execution_count": 22,
      "metadata": {
        "id": "Alx-VRFu9C8F"
      },
      "outputs": [],
      "source": [
        "num_generations = 50\n",
        "population_size = 100\n",
        "mutation_rate = 0.001 # 1% mutation rate per generation"
      ]
    },
    {
      "cell_type": "markdown",
      "metadata": {
        "id": "1UHWfCyM9C8F"
      },
      "source": [
        "### Main Evolution (Training) Loop"
      ]
    },
    {
      "cell_type": "code",
      "execution_count": 23,
      "metadata": {
        "id": "tCJCF9Zf9C8G"
      },
      "outputs": [],
      "source": [
        "pop_fit = []\n",
        "pop = spawn_population(pop_size=population_size) #initial population\n",
        "for gen in range(num_generations):\n",
        "    # trainning\n",
        "    pop, avg_fit = evaluate_population(pop)\n",
        "    pop_fit.append(avg_fit) #record population average fitness\n",
        "    new_pop = seed_next_population(pop, pop_size=population_size, mut_rate=mutation_rate)\n",
        "    pop = new_pop"
      ]
    },
    {
      "cell_type": "code",
      "execution_count": 24,
      "metadata": {
        "colab": {
          "base_uri": "https://localhost:8080/",
          "height": 447
        },
        "id": "mDMgo0U_9C8G",
        "outputId": "45f606bc-8e2f-4a99-e8ab-ceafeeeaaf32"
      },
      "outputs": [
        {
          "output_type": "execute_result",
          "data": {
            "text/plain": [
              "[<matplotlib.lines.Line2D at 0x7d9283363f70>]"
            ]
          },
          "metadata": {},
          "execution_count": 24
        },
        {
          "output_type": "display_data",
          "data": {
            "text/plain": [
              "<Figure size 640x480 with 1 Axes>"
            ],
            "image/png": "[encoded data removed]"
          },
          "metadata": {}
        }
      ],
      "source": [
        "plt.plot(pop_fit)"
      ]
    },
    {
      "cell_type": "code",
      "execution_count": 25,
      "metadata": {
        "colab": {
          "base_uri": "https://localhost:8080/"
        },
        "id": "eTZLsoGN9C8H",
        "outputId": "e8172d23-a9a1-4a9b-d977-08a3094fe967"
      },
      "outputs": [
        {
          "output_type": "stream",
          "name": "stdout",
          "text": [
            "tensor(2.3289)\n"
          ]
        }
      ],
      "source": [
        "avg_loss = 0\n",
        "for i in range(len(pop)):\n",
        "    x,y = next(iter(train_loader))\n",
        "    pred = model(x.reshape(batch_size,784),pop[i].param)\n",
        "    loss = loss_fn(pred,y)\n",
        "    avg_loss += loss\n",
        "avg_loss /= len(pop)\n",
        "print(avg_loss)"
      ]
    },
    {
      "cell_type": "markdown",
      "metadata": {
        "id": "cwWB_9a69C8H"
      },
      "source": [
        "Avg Loss new pop: 2.3336\n",
        "Avg Loss after 10 gens: 2.3435"
      ]
    },
    {
      "cell_type": "markdown",
      "metadata": {
        "id": "9MVY__VA9C8I"
      },
      "source": [
        "## Train with gradient-descent (comparison)"
      ]
    },
    {
      "cell_type": "code",
      "execution_count": 26,
      "metadata": {
        "id": "u90rSYgo9C8I"
      },
      "outputs": [],
      "source": [
        "p = torch.randn(784,10, requires_grad=True)\n",
        "optim = torch.optim.Adam(lr=0.1, params=[p])"
      ]
    },
    {
      "cell_type": "code",
      "execution_count": 27,
      "metadata": {
        "colab": {
          "base_uri": "https://localhost:8080/",
          "height": 1000
        },
        "id": "KkYiIRvt9C8I",
        "outputId": "54cca0bc-1106-4ceb-b957-99bf00aab4af"
      },
      "outputs": [
        {
          "output_type": "stream",
          "name": "stdout",
          "text": [
            "tensor(2.2300, grad_fn=<NllLossBackward0>)\n",
            "tensor(2.3311, grad_fn=<NllLossBackward0>)\n",
            "tensor(2.2909, grad_fn=<NllLossBackward0>)\n",
            "tensor(2.2810, grad_fn=<NllLossBackward0>)\n",
            "tensor(2.3211, grad_fn=<NllLossBackward0>)\n",
            "tensor(2.2408, grad_fn=<NllLossBackward0>)\n",
            "tensor(2.2709, grad_fn=<NllLossBackward0>)\n",
            "tensor(2.2610, grad_fn=<NllLossBackward0>)\n",
            "tensor(2.2308, grad_fn=<NllLossBackward0>)\n",
            "tensor(2.2212, grad_fn=<NllLossBackward0>)\n",
            "tensor(2.2611, grad_fn=<NllLossBackward0>)\n",
            "tensor(2.2409, grad_fn=<NllLossBackward0>)\n",
            "tensor(2.2712, grad_fn=<NllLossBackward0>)\n",
            "tensor(2.2510, grad_fn=<NllLossBackward0>)\n",
            "tensor(2.3012, grad_fn=<NllLossBackward0>)\n",
            "tensor(2.2512, grad_fn=<NllLossBackward0>)\n",
            "tensor(2.2412, grad_fn=<NllLossBackward0>)\n",
            "tensor(2.2811, grad_fn=<NllLossBackward0>)\n",
            "tensor(2.3212, grad_fn=<NllLossBackward0>)\n",
            "tensor(2.2712, grad_fn=<NllLossBackward0>)\n",
            "tensor(2.2812, grad_fn=<NllLossBackward0>)\n",
            "tensor(2.3312, grad_fn=<NllLossBackward0>)\n",
            "tensor(2.3112, grad_fn=<NllLossBackward0>)\n",
            "tensor(2.2912, grad_fn=<NllLossBackward0>)\n",
            "tensor(2.2311, grad_fn=<NllLossBackward0>)\n",
            "tensor(2.2312, grad_fn=<NllLossBackward0>)\n",
            "tensor(2.3012, grad_fn=<NllLossBackward0>)\n",
            "tensor(2.2712, grad_fn=<NllLossBackward0>)\n",
            "tensor(2.2811, grad_fn=<NllLossBackward0>)\n",
            "tensor(2.2012, grad_fn=<NllLossBackward0>)\n",
            "tensor(2.2612, grad_fn=<NllLossBackward0>)\n",
            "tensor(2.2812, grad_fn=<NllLossBackward0>)\n",
            "tensor(2.3011, grad_fn=<NllLossBackward0>)\n",
            "tensor(2.3211, grad_fn=<NllLossBackward0>)\n",
            "tensor(2.2912, grad_fn=<NllLossBackward0>)\n",
            "tensor(2.2512, grad_fn=<NllLossBackward0>)\n",
            "tensor(2.3212, grad_fn=<NllLossBackward0>)\n",
            "tensor(2.3612, grad_fn=<NllLossBackward0>)\n",
            "tensor(2.2912, grad_fn=<NllLossBackward0>)\n",
            "tensor(2.2712, grad_fn=<NllLossBackward0>)\n",
            "tensor(2.3012, grad_fn=<NllLossBackward0>)\n",
            "tensor(2.2712, grad_fn=<NllLossBackward0>)\n",
            "tensor(2.2412, grad_fn=<NllLossBackward0>)\n",
            "tensor(2.2311, grad_fn=<NllLossBackward0>)\n",
            "tensor(2.2912, grad_fn=<NllLossBackward0>)\n",
            "tensor(2.2912, grad_fn=<NllLossBackward0>)\n",
            "tensor(2.2312, grad_fn=<NllLossBackward0>)\n",
            "tensor(2.3012, grad_fn=<NllLossBackward0>)\n",
            "tensor(2.2411, grad_fn=<NllLossBackward0>)\n",
            "tensor(2.1912, grad_fn=<NllLossBackward0>)\n"
          ]
        },
        {
          "output_type": "display_data",
          "data": {
            "text/plain": [
              "<Figure size 640x480 with 1 Axes>"
            ],
            "image/png": "[encoded data removed]"
          },
          "metadata": {}
        }
      ],
      "source": [
        "loss_list = []\n",
        "for i in range(50):\n",
        "    for x, y in train_loader:\n",
        "        optim.zero_grad()\n",
        "        pred = model(x.reshape(batch_size, 784), p)\n",
        "        loss = loss_fn(pred, y)\n",
        "        loss_list.append(loss.detach().numpy())  # Detach and convert to NumPy\n",
        "        loss.backward()\n",
        "        optim.step()\n",
        "    print(loss)\n",
        "\n",
        "plt.plot(loss_list)\n",
        "plt.show()\n"
      ]
    },
    {
      "cell_type": "code",
      "execution_count": 27,
      "metadata": {
        "id": "-gHf_2Gt9C8J"
      },
      "outputs": [],
      "source": []
    }
  ],
  "metadata": {
    "colab": {
      "provenance": [],
      "gpuType": "T4"
    },
    "kernelspec": {
      "display_name": "Python 3",
      "name": "python3"
    },
    "language_info": {
      "codemirror_mode": {
        "name": "ipython",
        "version": 3
      },
      "file_extension": ".py",
      "mimetype": "text/x-python",
      "name": "python",
      "nbconvert_exporter": "python",
      "pygments_lexer": "ipython3",
      "version": "3.10.12"
    },
    "accelerator": "GPU"
  },
  "nbformat": 4,
  "nbformat_minor": 0
}