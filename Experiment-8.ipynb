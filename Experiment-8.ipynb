{
  "cells": [
    {
      "cell_type": "markdown",
      "metadata": {
        "id": "AX0PUIiB_cYb"
      },
      "source": [
        "# Chaper 8 - Intrinsic Curiosity Module\n",
        "#### Deep Reinforcement Learning *in Action*"
      ]
    },
    {
      "cell_type": "markdown",
      "metadata": {
        "id": "2uOdTRM8_cYd"
      },
      "source": [
        "##### Listing 8.1"
      ]
    },
    {
      "cell_type": "code",
      "execution_count": 1,
      "metadata": {
        "colab": {
          "base_uri": "https://localhost:8080/"
        },
        "id": "49YJ-DJP_cYd",
        "outputId": "2db3c4fb-9d02-4f10-a0dd-d5e167a63a29"
      },
      "outputs": [
        {
          "output_type": "stream",
          "name": "stdout",
          "text": [
            "Collecting gym==0.26.2\n",
            "  Downloading gym-0.26.2.tar.gz (721 kB)\n",
            "\u001b[?25l     \u001b[90m━━━━━━━━━━━━━━━━━━━━━━━━━━━━━━━━━━━━━━━━\u001b[0m \u001b[32m0.0/721.7 kB\u001b[0m \u001b[31m?\u001b[0m eta \u001b[36m-:--:--\u001b[0m\r\u001b[2K     \u001b[91m━━━━━━━━━━\u001b[0m\u001b[90m╺\u001b[0m\u001b[90m━━━━━━━━━━━━━━━━━━━━━━━━━━━━━\u001b[0m \u001b[32m184.3/721.7 kB\u001b[0m \u001b[31m5.3 MB/s\u001b[0m eta \u001b[36m0:00:01\u001b[0m\r\u001b[2K     \u001b[91m━━━━━━━━━━━━━━━━━━━━━━━━━━━━━━━━━━━━━━━\u001b[0m\u001b[91m╸\u001b[0m \u001b[32m716.8/721.7 kB\u001b[0m \u001b[31m11.2 MB/s\u001b[0m eta \u001b[36m0:00:01\u001b[0m\r\u001b[2K     \u001b[90m━━━━━━━━━━━━━━━━━━━━━━━━━━━━━━━━━━━━━━━━\u001b[0m \u001b[32m721.7/721.7 kB\u001b[0m \u001b[31m7.8 MB/s\u001b[0m eta \u001b[36m0:00:00\u001b[0m\n",
            "\u001b[?25h  Installing build dependencies ... \u001b[?25l\u001b[?25hdone\n",
            "  Getting requirements to build wheel ... \u001b[?25l\u001b[?25hdone\n",
            "  Preparing metadata (pyproject.toml) ... \u001b[?25l\u001b[?25hdone\n",
            "Collecting gym_super_mario_bros==7.3.0\n",
            "  Downloading gym_super_mario_bros-7.3.0-py2.py3-none-any.whl.metadata (9.4 kB)\n",
            "Collecting nes-py==8.2.1\n",
            "  Downloading nes_py-8.2.1.tar.gz (77 kB)\n",
            "\u001b[2K     \u001b[90m━━━━━━━━━━━━━━━━━━━━━━━━━━━━━━━━━━━━━━━━\u001b[0m \u001b[32m77.7/77.7 kB\u001b[0m \u001b[31m6.1 MB/s\u001b[0m eta \u001b[36m0:00:00\u001b[0m\n",
            "\u001b[?25h  Preparing metadata (setup.py) ... \u001b[?25l\u001b[?25hdone\n",
            "Requirement already satisfied: matplotlib in /usr/local/lib/python3.10/dist-packages (3.8.0)\n",
            "Requirement already satisfied: torch in /usr/local/lib/python3.10/dist-packages (2.5.1+cu121)\n",
            "Requirement already satisfied: scikit-image in /usr/local/lib/python3.10/dist-packages (0.24.0)\n",
            "Requirement already satisfied: numpy>=1.18.0 in /usr/local/lib/python3.10/dist-packages (from gym==0.26.2) (1.26.4)\n",
            "Requirement already satisfied: cloudpickle>=1.2.0 in /usr/local/lib/python3.10/dist-packages (from gym==0.26.2) (3.1.0)\n",
            "Requirement already satisfied: gym_notices>=0.0.4 in /usr/local/lib/python3.10/dist-packages (from gym==0.26.2) (0.0.8)\n",
            "Collecting pyglet<=1.5.21,>=1.4.0 (from nes-py==8.2.1)\n",
            "  Downloading pyglet-1.5.21-py3-none-any.whl.metadata (7.6 kB)\n",
            "Requirement already satisfied: tqdm>=4.48.2 in /usr/local/lib/python3.10/dist-packages (from nes-py==8.2.1) (4.66.6)\n",
            "Requirement already satisfied: contourpy>=1.0.1 in /usr/local/lib/python3.10/dist-packages (from matplotlib) (1.3.1)\n",
            "Requirement already satisfied: cycler>=0.10 in /usr/local/lib/python3.10/dist-packages (from matplotlib) (0.12.1)\n",
            "Requirement already satisfied: fonttools>=4.22.0 in /usr/local/lib/python3.10/dist-packages (from matplotlib) (4.55.1)\n",
            "Requirement already satisfied: kiwisolver>=1.0.1 in /usr/local/lib/python3.10/dist-packages (from matplotlib) (1.4.7)\n",
            "Requirement already satisfied: packaging>=20.0 in /usr/local/lib/python3.10/dist-packages (from matplotlib) (24.2)\n",
            "Requirement already satisfied: pillow>=6.2.0 in /usr/local/lib/python3.10/dist-packages (from matplotlib) (11.0.0)\n",
            "Requirement already satisfied: pyparsing>=2.3.1 in /usr/local/lib/python3.10/dist-packages (from matplotlib) (3.2.0)\n",
            "Requirement already satisfied: python-dateutil>=2.7 in /usr/local/lib/python3.10/dist-packages (from matplotlib) (2.8.2)\n",
            "Requirement already satisfied: filelock in /usr/local/lib/python3.10/dist-packages (from torch) (3.16.1)\n",
            "Requirement already satisfied: typing-extensions>=4.8.0 in /usr/local/lib/python3.10/dist-packages (from torch) (4.12.2)\n",
            "Requirement already satisfied: networkx in /usr/local/lib/python3.10/dist-packages (from torch) (3.4.2)\n",
            "Requirement already satisfied: jinja2 in /usr/local/lib/python3.10/dist-packages (from torch) (3.1.4)\n",
            "Requirement already satisfied: fsspec in /usr/local/lib/python3.10/dist-packages (from torch) (2024.10.0)\n",
            "Requirement already satisfied: sympy==1.13.1 in /usr/local/lib/python3.10/dist-packages (from torch) (1.13.1)\n",
            "Requirement already satisfied: mpmath<1.4,>=1.1.0 in /usr/local/lib/python3.10/dist-packages (from sympy==1.13.1->torch) (1.3.0)\n",
            "Requirement already satisfied: scipy>=1.9 in /usr/local/lib/python3.10/dist-packages (from scikit-image) (1.13.1)\n",
            "Requirement already satisfied: imageio>=2.33 in /usr/local/lib/python3.10/dist-packages (from scikit-image) (2.36.1)\n",
            "Requirement already satisfied: tifffile>=2022.8.12 in /usr/local/lib/python3.10/dist-packages (from scikit-image) (2024.9.20)\n",
            "Requirement already satisfied: lazy-loader>=0.4 in /usr/local/lib/python3.10/dist-packages (from scikit-image) (0.4)\n",
            "Requirement already satisfied: six>=1.5 in /usr/local/lib/python3.10/dist-packages (from python-dateutil>=2.7->matplotlib) (1.16.0)\n",
            "Requirement already satisfied: MarkupSafe>=2.0 in /usr/local/lib/python3.10/dist-packages (from jinja2->torch) (3.0.2)\n",
            "Downloading gym_super_mario_bros-7.3.0-py2.py3-none-any.whl (198 kB)\n",
            "\u001b[2K   \u001b[90m━━━━━━━━━━━━━━━━━━━━━━━━━━━━━━━━━━━━━━━━\u001b[0m \u001b[32m198.6/198.6 kB\u001b[0m \u001b[31m15.6 MB/s\u001b[0m eta \u001b[36m0:00:00\u001b[0m\n",
            "\u001b[?25hDownloading pyglet-1.5.21-py3-none-any.whl (1.1 MB)\n",
            "\u001b[2K   \u001b[90m━━━━━━━━━━━━━━━━━━━━━━━━━━━━━━━━━━━━━━━━\u001b[0m \u001b[32m1.1/1.1 MB\u001b[0m \u001b[31m44.2 MB/s\u001b[0m eta \u001b[36m0:00:00\u001b[0m\n",
            "\u001b[?25hBuilding wheels for collected packages: gym, nes-py\n",
            "  Building wheel for gym (pyproject.toml) ... \u001b[?25l\u001b[?25hdone\n",
            "  Created wheel for gym: filename=gym-0.26.2-py3-none-any.whl size=827627 sha256=d7bfc13a8dbacfa4a0a6c689af2e31e66f1c1e671b4ca93822e35df3295e9b1e\n",
            "  Stored in directory: /root/.cache/pip/wheels/b9/22/6d/3e7b32d98451b4cd9d12417052affbeeeea012955d437da1da\n",
            "  Building wheel for nes-py (setup.py) ... \u001b[?25l\u001b[?25hdone\n",
            "  Created wheel for nes-py: filename=nes_py-8.2.1-cp310-cp310-linux_x86_64.whl size=535718 sha256=f51697c1a889c4def45a308e4864c2f81fd67f4524d762ac1e193da9b0be404f\n",
            "  Stored in directory: /root/.cache/pip/wheels/34/a7/d5/9aa14b15df740a53d41f702e4c795731b6c4da7925deb8476c\n",
            "Successfully built gym nes-py\n",
            "Installing collected packages: pyglet, gym, nes-py, gym_super_mario_bros\n",
            "  Attempting uninstall: gym\n",
            "    Found existing installation: gym 0.25.2\n",
            "    Uninstalling gym-0.25.2:\n",
            "      Successfully uninstalled gym-0.25.2\n",
            "\u001b[31mERROR: pip's dependency resolver does not currently take into account all the packages that are installed. This behaviour is the source of the following dependency conflicts.\n",
            "dopamine-rl 4.0.9 requires gym<=0.25.2, but you have gym 0.26.2 which is incompatible.\u001b[0m\u001b[31m\n",
            "\u001b[0mSuccessfully installed gym-0.26.2 gym_super_mario_bros-7.3.0 nes-py-8.2.1 pyglet-1.5.21\n"
          ]
        }
      ],
      "source": [
        "!pip install gym==0.26.2 gym_super_mario_bros==7.3.0 nes-py==8.2.1 matplotlib torch scikit-image"
      ]
    },
    {
      "cell_type": "code",
      "source": [
        "# Import libraries\n",
        "from nes_py.wrappers import JoypadSpace\n",
        "import gym_super_mario_bros\n",
        "from gym_super_mario_bros.actions import COMPLEX_MOVEMENT\n",
        "import matplotlib.pyplot as plt\n",
        "from skimage.transform import resize\n",
        "import numpy as np\n",
        "import torch\n",
        "from torch import nn, optim\n",
        "import torch.nn.functional as F\n",
        "from collections import deque\n",
        "from random import shuffle\n",
        "\n",
        "# Initialize the environment\n",
        "env = gym_super_mario_bros.make('SuperMarioBros-v3', apply_api_compatibility=True, render_mode=\"rgb_array\")\n",
        "env = JoypadSpace(env, COMPLEX_MOVEMENT)"
      ],
      "metadata": {
        "colab": {
          "base_uri": "https://localhost:8080/"
        },
        "id": "nECnqjAmCQ2L",
        "outputId": "4168c7d0-84d3-4296-ff3a-2ecb6aee2d7f"
      },
      "execution_count": 2,
      "outputs": [
        {
          "output_type": "stream",
          "name": "stderr",
          "text": [
            "/usr/local/lib/python3.10/dist-packages/gym/envs/registration.py:627: UserWarning: \u001b[33mWARN: The environment creator metadata doesn't include `render_modes`, contains: ['render.modes', 'video.frames_per_second']\u001b[0m\n",
            "  logger.warn(\n"
          ]
        }
      ]
    },
    {
      "cell_type": "code",
      "execution_count": 3,
      "metadata": {
        "colab": {
          "base_uri": "https://localhost:8080/"
        },
        "id": "m6xZZ3Yw_cYf",
        "outputId": "2664a694-afd9-4539-a286-c3e529c14ea6"
      },
      "outputs": [
        {
          "output_type": "stream",
          "name": "stderr",
          "text": [
            "/usr/local/lib/python3.10/dist-packages/gym/utils/passive_env_checker.py:233: DeprecationWarning: `np.bool8` is a deprecated alias for `np.bool_`.  (Deprecated NumPy 1.24)\n",
            "  if not isinstance(terminated, (bool, np.bool8)):\n",
            "/usr/local/lib/python3.10/dist-packages/gym/utils/passive_env_checker.py:272: UserWarning: \u001b[33mWARN: No render modes was declared in the environment (env.metadata['render_modes'] is None or not defined), you may have trouble when calling `.render()`.\u001b[0m\n",
            "  logger.warn(\n"
          ]
        }
      ],
      "source": [
        "done = True\n",
        "for step in range(2500): #D\n",
        "    if done:\n",
        "        state = env.reset()\n",
        "    state, reward, done, trunc, info = env.step(env.action_space.sample())\n",
        "    env.render()\n",
        "#env.close()"
      ]
    },
    {
      "cell_type": "markdown",
      "metadata": {
        "id": "zu4qyCzc_cYf"
      },
      "source": [
        "##### Listing 8.2"
      ]
    },
    {
      "cell_type": "code",
      "execution_count": 4,
      "metadata": {
        "id": "b6RJt-vz_cYf"
      },
      "outputs": [],
      "source": [
        "import matplotlib.pyplot as plt\n",
        "from skimage.transform import resize #A\n",
        "import numpy as np\n",
        "\n",
        "def downscale_obs(obs, new_size=(42,42), to_gray=True):\n",
        "    if to_gray:\n",
        "        return resize(obs, new_size, anti_aliasing=True).max(axis=2) #B\n",
        "    else:\n",
        "        return resize(obs, new_size, anti_aliasing=True)"
      ]
    },
    {
      "cell_type": "code",
      "execution_count": 5,
      "metadata": {
        "colab": {
          "base_uri": "https://localhost:8080/",
          "height": 448
        },
        "id": "5xc3NSiB_cYf",
        "outputId": "b676bda9-6bcc-4f11-e99c-fce808c56af0"
      },
      "outputs": [
        {
          "output_type": "execute_result",
          "data": {
            "text/plain": [
              "<matplotlib.image.AxesImage at 0x780ada162680>"
            ]
          },
          "metadata": {},
          "execution_count": 5
        },
        {
          "output_type": "display_data",
          "data": {
            "text/plain": [
              "<Figure size 640x480 with 1 Axes>"
            ],
            "image/png": "[encoded data removed]"
          },
          "metadata": {}
        }
      ],
      "source": [
        "plt.imshow(env.render())\n",
        "plt.imshow(downscale_obs(env.render()))"
      ]
    },
    {
      "cell_type": "markdown",
      "metadata": {
        "id": "LIbjA5Gl_cYf"
      },
      "source": [
        "##### Listing 8.4"
      ]
    },
    {
      "cell_type": "code",
      "execution_count": 6,
      "metadata": {
        "id": "8ZnPqQGY_cYg"
      },
      "outputs": [],
      "source": [
        "import torch\n",
        "from torch import nn\n",
        "from torch import optim\n",
        "import torch.nn.functional as F\n",
        "from collections import deque\n",
        "\n",
        "def prepare_state(state): #A\n",
        "    return torch.from_numpy(downscale_obs(state, to_gray=True)).float().unsqueeze(dim=0)\n",
        "\n",
        "\n",
        "def prepare_multi_state(state1, state2): #B\n",
        "    state1 = state1.clone()\n",
        "    tmp = torch.from_numpy(downscale_obs(state2, to_gray=True)).float()\n",
        "    state1[0][0] = state1[0][1]\n",
        "    state1[0][1] = state1[0][2]\n",
        "    state1[0][2] = tmp\n",
        "    return state1\n",
        "\n",
        "\n",
        "def prepare_initial_state(state,N=3): #C\n",
        "    state_ = torch.from_numpy(downscale_obs(state, to_gray=True)).float()\n",
        "    tmp = state_.repeat((N,1,1))\n",
        "    return tmp.unsqueeze(dim=0)"
      ]
    },
    {
      "cell_type": "markdown",
      "metadata": {
        "id": "H1frrQRV_cYg"
      },
      "source": [
        "##### Listing 8.5"
      ]
    },
    {
      "cell_type": "code",
      "execution_count": 7,
      "metadata": {
        "id": "ZxbXZjxN_cYg"
      },
      "outputs": [],
      "source": [
        "def policy(qvalues, eps=None): #A\n",
        "    if eps is not None:\n",
        "        if torch.rand(1) < eps:\n",
        "            return torch.randint(low=0,high=7,size=(1,))\n",
        "        else:\n",
        "            return torch.argmax(qvalues)\n",
        "    else:\n",
        "        return torch.multinomial(F.softmax(F.normalize(qvalues)), num_samples=1) #B"
      ]
    },
    {
      "cell_type": "markdown",
      "metadata": {
        "id": "c0-wQTbV_cYh"
      },
      "source": [
        "##### Listing 8.6"
      ]
    },
    {
      "cell_type": "code",
      "execution_count": 8,
      "metadata": {
        "id": "XupcuC8M_cYh"
      },
      "outputs": [],
      "source": [
        "from random import shuffle\n",
        "import torch\n",
        "from torch import nn\n",
        "from torch import optim\n",
        "import torch.nn.functional as F\n",
        "\n",
        "class ExperienceReplay:\n",
        "    def __init__(self, N=500, batch_size=100):\n",
        "        self.N = N #A\n",
        "        self.batch_size = batch_size #B\n",
        "        self.memory = []\n",
        "        self.counter = 0\n",
        "\n",
        "    def add_memory(self, state1, action, reward, state2):\n",
        "        self.counter +=1\n",
        "        if self.counter % 500 == 0: #C\n",
        "            self.shuffle_memory()\n",
        "\n",
        "        if len(self.memory) < self.N: #D\n",
        "            self.memory.append( (state1, action, reward, state2) )\n",
        "        else:\n",
        "            rand_index = np.random.randint(0,self.N-1)\n",
        "            self.memory[rand_index] = (state1, action, reward, state2)\n",
        "\n",
        "    def shuffle_memory(self): #E\n",
        "        shuffle(self.memory)\n",
        "\n",
        "    def get_batch(self): #F\n",
        "        if len(self.memory) < self.batch_size:\n",
        "            batch_size = len(self.memory)\n",
        "        else:\n",
        "            batch_size = self.batch_size\n",
        "        if len(self.memory) < 1:\n",
        "            print(\"Error: No data in memory.\")\n",
        "            return None\n",
        "        #G\n",
        "        ind = np.random.choice(np.arange(len(self.memory)),batch_size,replace=False)\n",
        "        batch = [self.memory[i] for i in ind] #batch is a list of tuples\n",
        "        state1_batch = torch.stack([x[0].squeeze(dim=0) for x in batch],dim=0)\n",
        "        action_batch = torch.Tensor([x[1] for x in batch]).long()\n",
        "        reward_batch = torch.Tensor([x[2] for x in batch])\n",
        "        state2_batch = torch.stack([x[3].squeeze(dim=0) for x in batch],dim=0)\n",
        "        return state1_batch, action_batch, reward_batch, state2_batch"
      ]
    },
    {
      "cell_type": "markdown",
      "metadata": {
        "id": "U2VmCax6_cYh"
      },
      "source": [
        "##### Listing 8.7"
      ]
    },
    {
      "cell_type": "code",
      "execution_count": 9,
      "metadata": {
        "id": "L1Ibl7QF_cYh"
      },
      "outputs": [],
      "source": [
        "class Phi(nn.Module): #A\n",
        "    def __init__(self):\n",
        "        super(Phi, self).__init__()\n",
        "        self.conv1 = nn.Conv2d(3, 32, kernel_size=(3,3), stride=2, padding=1)\n",
        "        self.conv2 = nn.Conv2d(32, 32, kernel_size=(3,3), stride=2, padding=1)\n",
        "        self.conv3 = nn.Conv2d(32, 32, kernel_size=(3,3), stride=2, padding=1)\n",
        "        self.conv4 = nn.Conv2d(32, 32, kernel_size=(3,3), stride=2, padding=1)\n",
        "\n",
        "    def forward(self,x):\n",
        "        x = F.normalize(x)\n",
        "        y = F.elu(self.conv1(x))\n",
        "        y = F.elu(self.conv2(y))\n",
        "        y = F.elu(self.conv3(y))\n",
        "        y = F.elu(self.conv4(y)) #size [1, 32, 3, 3] batch, channels, 3 x 3\n",
        "        y = y.flatten(start_dim=1) #size N, 288\n",
        "        return y\n",
        "\n",
        "class Gnet(nn.Module): #B\n",
        "    def __init__(self):\n",
        "        super(Gnet, self).__init__()\n",
        "        self.linear1 = nn.Linear(576,256)\n",
        "        self.linear2 = nn.Linear(256,12)\n",
        "\n",
        "    def forward(self, state1,state2):\n",
        "        x = torch.cat( (state1, state2) ,dim=1)\n",
        "        y = F.relu(self.linear1(x))\n",
        "        y = self.linear2(y)\n",
        "        y = F.softmax(y,dim=1)\n",
        "        return y\n",
        "\n",
        "class Fnet(nn.Module): #C\n",
        "    def __init__(self):\n",
        "        super(Fnet, self).__init__()\n",
        "        self.linear1 = nn.Linear(300,256)\n",
        "        self.linear2 = nn.Linear(256,288)\n",
        "\n",
        "    def forward(self,state,action):\n",
        "        action_ = torch.zeros(action.shape[0],12) #D\n",
        "        indices = torch.stack( (torch.arange(action.shape[0]), action.squeeze()), dim=0)\n",
        "        indices = indices.tolist()\n",
        "        action_[indices] = 1.\n",
        "        x = torch.cat( (state,action_) ,dim=1)\n",
        "        y = F.relu(self.linear1(x))\n",
        "        y = self.linear2(y)\n",
        "        return y"
      ]
    },
    {
      "cell_type": "markdown",
      "metadata": {
        "id": "OR6jNXM1_cYh"
      },
      "source": [
        "##### Listing 8.8"
      ]
    },
    {
      "cell_type": "code",
      "execution_count": 10,
      "metadata": {
        "id": "c9V7Ajxp_cYh"
      },
      "outputs": [],
      "source": [
        "class Qnetwork(nn.Module):\n",
        "    def __init__(self):\n",
        "        super(Qnetwork, self).__init__()\n",
        "        #in_channels, out_channels, kernel_size, stride=1, padding=0\n",
        "        self.conv1 = nn.Conv2d(in_channels=3, out_channels=32, kernel_size=(3,3), stride=2, padding=1)\n",
        "        self.conv2 = nn.Conv2d(32, 32, kernel_size=(3,3), stride=2, padding=1)\n",
        "        self.conv3 = nn.Conv2d(32, 32, kernel_size=(3,3), stride=2, padding=1)\n",
        "        self.conv4 = nn.Conv2d(32, 32, kernel_size=(3,3), stride=2, padding=1)\n",
        "        self.linear1 = nn.Linear(288,100)\n",
        "        self.linear2 = nn.Linear(100,12)\n",
        "\n",
        "    def forward(self,x):\n",
        "        x = F.normalize(x)\n",
        "        y = F.elu(self.conv1(x))\n",
        "        y = F.elu(self.conv2(y))\n",
        "        y = F.elu(self.conv3(y))\n",
        "        y = F.elu(self.conv4(y))\n",
        "        y = y.flatten(start_dim=2)\n",
        "        y = y.view(y.shape[0], -1, 32)\n",
        "        y = y.flatten(start_dim=1)\n",
        "        y = F.elu(self.linear1(y))\n",
        "        y = self.linear2(y) #size N, 12\n",
        "        return y"
      ]
    },
    {
      "cell_type": "markdown",
      "metadata": {
        "id": "1l7ods0H_cYh"
      },
      "source": [
        "##### Listing 8.9"
      ]
    },
    {
      "cell_type": "code",
      "execution_count": 11,
      "metadata": {
        "id": "HaDmAKSs_cYh"
      },
      "outputs": [],
      "source": [
        "params = {\n",
        "    'batch_size':150,\n",
        "    'beta':0.2,\n",
        "    'lambda':0.1,\n",
        "    'eta': 1.0,\n",
        "    'gamma':0.2,\n",
        "    'max_episode_len':100,\n",
        "    'min_progress':15,\n",
        "    'action_repeats':6,\n",
        "    'frames_per_state':3\n",
        "}\n",
        "\n",
        "replay = ExperienceReplay(N=1000, batch_size=params['batch_size'])\n",
        "Qmodel = Qnetwork()\n",
        "encoder = Phi()\n",
        "forward_model = Fnet()\n",
        "inverse_model = Gnet()\n",
        "forward_loss = nn.MSELoss(reduction='none')\n",
        "inverse_loss = nn.CrossEntropyLoss(reduction='none')\n",
        "qloss = nn.MSELoss()\n",
        "all_model_params = list(Qmodel.parameters()) + list(encoder.parameters()) #A\n",
        "all_model_params += list(forward_model.parameters()) + list(inverse_model.parameters())\n",
        "opt = optim.Adam(lr=0.001, params=all_model_params)"
      ]
    },
    {
      "cell_type": "markdown",
      "metadata": {
        "id": "UZtquC86_cYh"
      },
      "source": [
        "##### Listing 8.10"
      ]
    },
    {
      "cell_type": "code",
      "execution_count": 12,
      "metadata": {
        "id": "sYst5Csv_cYi"
      },
      "outputs": [],
      "source": [
        "def loss_fn(q_loss, inverse_loss, forward_loss):\n",
        "    loss_ = (1 - params['beta']) * inverse_loss\n",
        "    loss_ += params['beta'] * forward_loss\n",
        "    loss_ = loss_.sum() / loss_.flatten().shape[0]\n",
        "    loss = loss_ + params['lambda'] * q_loss\n",
        "    return loss\n",
        "\n",
        "def reset_env():\n",
        "    \"\"\"\n",
        "    Reset the environment and return a new initial state\n",
        "    \"\"\"\n",
        "    env.reset()\n",
        "    state1 = prepare_initial_state(env.render())\n",
        "    return state1"
      ]
    },
    {
      "cell_type": "markdown",
      "metadata": {
        "id": "eSe3YKHE_cYi"
      },
      "source": [
        "##### Listing 8.11"
      ]
    },
    {
      "cell_type": "code",
      "execution_count": 13,
      "metadata": {
        "id": "rKudKsAq_cYi"
      },
      "outputs": [],
      "source": [
        "def ICM(state1, action, state2, forward_scale=1., inverse_scale=1e4):\n",
        "    state1_hat = encoder(state1) #A\n",
        "    state2_hat = encoder(state2)\n",
        "    state2_hat_pred = forward_model(state1_hat.detach(), action.detach()) #B\n",
        "    forward_pred_err = forward_scale * forward_loss(state2_hat_pred, \\\n",
        "                        state2_hat.detach()).sum(dim=1).unsqueeze(dim=1)\n",
        "    pred_action = inverse_model(state1_hat, state2_hat) #C\n",
        "    inverse_pred_err = inverse_scale * inverse_loss(pred_action, \\\n",
        "                                        action.detach().flatten()).unsqueeze(dim=1)\n",
        "    return forward_pred_err, inverse_pred_err"
      ]
    },
    {
      "cell_type": "markdown",
      "metadata": {
        "id": "ul63WejY_cYi"
      },
      "source": [
        "##### Listing 8.12"
      ]
    },
    {
      "cell_type": "code",
      "execution_count": 14,
      "metadata": {
        "id": "ouVAcCn0_cYi"
      },
      "outputs": [],
      "source": [
        "def minibatch_train(use_extrinsic=True):\n",
        "    state1_batch, action_batch, reward_batch, state2_batch = replay.get_batch()\n",
        "    action_batch = action_batch.view(action_batch.shape[0],1) #A\n",
        "    reward_batch = reward_batch.view(reward_batch.shape[0],1)\n",
        "\n",
        "    forward_pred_err, inverse_pred_err = ICM(state1_batch, action_batch, state2_batch) #B\n",
        "    i_reward = (1. / params['eta']) * forward_pred_err #C\n",
        "    reward = i_reward.detach() #D\n",
        "    if use_explicit: #E\n",
        "        reward += reward_batch\n",
        "    qvals = Qmodel(state2_batch) #F\n",
        "    reward += params['gamma'] * torch.max(qvals)\n",
        "    reward_pred = Qmodel(state1_batch)\n",
        "    reward_target = reward_pred.clone()\n",
        "    indices = torch.stack( (torch.arange(action_batch.shape[0]), \\\n",
        "    action_batch.squeeze()), dim=0)\n",
        "    indices = indices.tolist()\n",
        "    reward_target[indices] = reward.squeeze()\n",
        "    q_loss = 1e5 * qloss(F.normalize(reward_pred), F.normalize(reward_target.detach()))\n",
        "    return forward_pred_err, inverse_pred_err, q_loss"
      ]
    },
    {
      "cell_type": "markdown",
      "metadata": {
        "id": "-4j4so_T_cYi"
      },
      "source": [
        "##### Listing 8.13"
      ]
    },
    {
      "cell_type": "code",
      "execution_count": 18,
      "metadata": {
        "colab": {
          "base_uri": "https://localhost:8080/"
        },
        "id": "YRgdtie__cYi",
        "outputId": "577d9988-280e-4438-ec64-5bc3aefab9ff"
      },
      "outputs": [
        {
          "output_type": "stream",
          "name": "stderr",
          "text": [
            "<ipython-input-7-8acb8fb27d16>:8: UserWarning: Implicit dimension choice for softmax has been deprecated. Change the call to include dim=X as an argument.\n",
            "  return torch.multinomial(F.softmax(F.normalize(qvalues)), num_samples=1) #B\n"
          ]
        }
      ],
      "source": [
        "epochs = 5000\n",
        "env.reset()\n",
        "state1 = prepare_initial_state(env.render())\n",
        "eps=0.15\n",
        "losses = []\n",
        "episode_length = 0\n",
        "switch_to_eps_greedy = 1000\n",
        "state_deque = deque(maxlen=params['frames_per_state'])\n",
        "e_reward = 0.\n",
        "last_x_pos = 0 #A\n",
        "#ep_lengths = []\n",
        "use_explicit = False\n",
        "for i in range(epochs):\n",
        "    opt.zero_grad()\n",
        "    episode_length += 1\n",
        "    q_val_pred = Qmodel(state1) #B\n",
        "    if i > switch_to_eps_greedy: #C\n",
        "        action = int(policy(q_val_pred,eps))\n",
        "    else:\n",
        "        action = int(policy(q_val_pred))\n",
        "    for j in range(params['action_repeats']): #D\n",
        "        state2, e_reward_, done, trunc, info = env.step(action)\n",
        "        last_x_pos = info['x_pos']\n",
        "        if done:\n",
        "            state1 = reset_env()\n",
        "            break\n",
        "        e_reward += e_reward_\n",
        "        state_deque.append(prepare_state(state2))\n",
        "    state2 = torch.stack(list(state_deque),dim=1) #E\n",
        "    replay.add_memory(state1, action, e_reward, state2) #F\n",
        "    e_reward = 0\n",
        "    if episode_length > params['max_episode_len']: #G\n",
        "        if (info['x_pos'] - last_x_pos) < params['min_progress']:\n",
        "            done = True\n",
        "        else:\n",
        "            last_x_pos = info['x_pos']\n",
        "    if done or trunc:\n",
        "        #ep_lengths.append(info['x_pos'])\n",
        "        state1 = reset_env()\n",
        "        last_x_pos = 0\n",
        "        episode_length = 0\n",
        "    else:\n",
        "        state1 = state2\n",
        "    if len(replay.memory) < params['batch_size']:\n",
        "        continue\n",
        "    forward_pred_err, inverse_pred_err, q_loss = minibatch_train(use_extrinsic=False) #H\n",
        "    loss = loss_fn(q_loss, forward_pred_err, inverse_pred_err) #I\n",
        "    loss_list = (q_loss.mean(), forward_pred_err.flatten().mean(),\\\n",
        "    inverse_pred_err.flatten().mean())\n",
        "    losses.append(loss_list)\n",
        "    loss.backward()\n",
        "    opt.step()"
      ]
    },
    {
      "cell_type": "code",
      "execution_count": 19,
      "metadata": {
        "id": "qmkRWop6_cYi"
      },
      "outputs": [],
      "source": [
        "done = True\n",
        "state_deque = deque(maxlen=params['frames_per_state'])\n",
        "for step in range(500):\n",
        "    if done:\n",
        "        env.reset()\n",
        "        state1 = prepare_initial_state(env.render())\n",
        "    q_val_pred = Qmodel(state1)\n",
        "    action = int(policy(q_val_pred,eps))\n",
        "    state2, reward, done, trunc, info = env.step(action)\n",
        "    state2 = prepare_multi_state(state1,state2)\n",
        "    state1=state2\n",
        "    env.render()"
      ]
    },
    {
      "cell_type": "code",
      "execution_count": 16,
      "metadata": {
        "id": "R-KV36r__cYi"
      },
      "outputs": [],
      "source": []
    }
  ],
  "metadata": {
    "kernelspec": {
      "display_name": "Python 3 (ipykernel)",
      "language": "python",
      "name": "python3"
    },
    "language_info": {
      "codemirror_mode": {
        "name": "ipython",
        "version": 3
      },
      "file_extension": ".py",
      "mimetype": "text/x-python",
      "name": "python",
      "nbconvert_exporter": "python",
      "pygments_lexer": "ipython3",
      "version": "3.10.12"
    },
    "colab": {
      "provenance": []
    }
  },
  "nbformat": 4,
  "nbformat_minor": 0
}