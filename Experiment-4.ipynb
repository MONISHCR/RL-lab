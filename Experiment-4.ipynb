{
  "cells": [
    {
      "cell_type": "markdown",
      "metadata": {
        "id": "hwJsmKoeoThZ"
      },
      "source": [
        "# Experiment-4 - Actor-Critic Models\n"
      ]
    },
    {
      "cell_type": "markdown",
      "metadata": {
        "id": "jvY04Xf-oThf"
      },
      "source": [
        "##### Listing 5.1"
      ]
    },
    {
      "cell_type": "code",
      "execution_count": null,
      "metadata": {
        "colab": {
          "base_uri": "https://localhost:8080/"
        },
        "id": "6Fhm5L_EoThg",
        "outputId": "60eb5e39-0486-454e-95a8-e14f706f404d"
      },
      "outputs": [
        {
          "output_type": "stream",
          "name": "stdout",
          "text": [
            "[ 0  1  2  3  4  5  6  7  8  9 10 11 12 13 14 15 16 17 18 19 20 21 22 23\n",
            " 24 25 26 27 28 29 30 31 32 33 34 35 36 37 38 39 40 41 42 43 44 45 46 47\n",
            " 48 49 50 51 52 53 54 55 56 57 58 59 60 61 62 63]\n",
            "2\n",
            "[array([ 0,  1,  4,  9, 16, 25, 36, 49]), array([ 64,  81, 100, 121, 144, 169, 196, 225]), array([256, 289, 324, 361, 400, 441, 484, 529]), array([576, 625, 676, 729, 784, 841, 900, 961]), array([1024, 1089, 1156, 1225, 1296, 1369, 1444, 1521]), array([1600, 1681, 1764, 1849, 1936, 2025, 2116, 2209]), array([2304, 2401, 2500, 2601, 2704, 2809, 2916, 3025]), array([3136, 3249, 3364, 3481, 3600, 3721, 3844, 3969])]\n"
          ]
        }
      ],
      "source": [
        "import multiprocessing as mp\n",
        "import numpy as np\n",
        "def square(x): #A\n",
        "    return np.square(x)\n",
        "x = np.arange(64) #B\n",
        "print(x)\n",
        "print(mp.cpu_count())\n",
        "pool = mp.Pool(8) #C\n",
        "squared = pool.map(square, [x[8*i:8*i+8] for i in range(8)])\n",
        "print(squared)"
      ]
    },
    {
      "cell_type": "markdown",
      "metadata": {
        "id": "EL-gpRtCoThi"
      },
      "source": [
        "##### Listing 5.2"
      ]
    },
    {
      "cell_type": "code",
      "execution_count": null,
      "metadata": {
        "colab": {
          "base_uri": "https://localhost:8080/"
        },
        "id": "VvrsmuKxoThi",
        "outputId": "ef27f249-bc09-4f11-aca1-e9bf83c5769e"
      },
      "outputs": [
        {
          "output_type": "stream",
          "name": "stdout",
          "text": [
            "In process 0\n",
            "In process 1\n",
            "In process 2\n",
            "\n",
            "In process 3In process 5In process 4\n",
            "\n",
            "In process 6\n",
            "In process 7\n",
            "[array([ 0,  1,  4,  9, 16, 25, 36, 49]), array([ 64,  81, 100, 121, 144, 169, 196, 225]), array([256, 289, 324, 361, 400, 441, 484, 529]), array([576, 625, 676, 729, 784, 841, 900, 961]), array([1600, 1681, 1764, 1849, 1936, 2025, 2116, 2209]), array([2304, 2401, 2500, 2601, 2704, 2809, 2916, 3025]), array([1024, 1089, 1156, 1225, 1296, 1369, 1444, 1521]), array([3136, 3249, 3364, 3481, 3600, 3721, 3844, 3969])]\n"
          ]
        }
      ],
      "source": [
        "def square(i, x, queue):\n",
        "    print(\"In process {}\".format(i,))\n",
        "    queue.put(np.square(x))\n",
        "processes = [] #A\n",
        "queue = mp.Queue() #B\n",
        "x = np.arange(64) #C\n",
        "for i in range(8): #D\n",
        "    start_index = 8*i\n",
        "    proc = mp.Process(target=square,args=(i,x[start_index:start_index+8], queue))\n",
        "    proc.start()\n",
        "    processes.append(proc)\n",
        "\n",
        "for proc in processes: #E\n",
        "    proc.join()\n",
        "\n",
        "for proc in processes: #F\n",
        "    proc.terminate()\n",
        "results = []\n",
        "while not queue.empty(): #G\n",
        "    results.append(queue.get())\n",
        "\n",
        "print(results)"
      ]
    },
    {
      "cell_type": "markdown",
      "metadata": {
        "id": "5ZtaZa4coThj"
      },
      "source": [
        "##### Listing 5.4"
      ]
    },
    {
      "cell_type": "code",
      "execution_count": null,
      "metadata": {
        "id": "BbYJWWI8oThj"
      },
      "outputs": [],
      "source": [
        "import torch\n",
        "from torch import nn\n",
        "from torch import optim\n",
        "import numpy as np\n",
        "from torch.nn import functional as F\n",
        "import gym\n",
        "import torch.multiprocessing as mp #A\n",
        "\n",
        "class ActorCritic(nn.Module): #B\n",
        "    def __init__(self):\n",
        "        super(ActorCritic, self).__init__()\n",
        "        self.l1 = nn.Linear(4,25)\n",
        "        self.l2 = nn.Linear(25,50)\n",
        "        self.actor_lin1 = nn.Linear(50,2)\n",
        "        self.l3 = nn.Linear(50,25)\n",
        "        self.critic_lin1 = nn.Linear(25,1)\n",
        "    def forward(self,x):\n",
        "        x = F.normalize(x,dim=0)\n",
        "        y = F.relu(self.l1(x))\n",
        "        y = F.relu(self.l2(y))\n",
        "        actor = F.log_softmax(self.actor_lin1(y),dim=0) #C\n",
        "        c = F.relu(self.l3(y.detach()))\n",
        "        critic = torch.tanh(self.critic_lin1(c)) #D\n",
        "        return actor, critic #E"
      ]
    },
    {
      "cell_type": "markdown",
      "metadata": {
        "id": "n3SmZiBroThk"
      },
      "source": [
        "##### Listing 5.6"
      ]
    },
    {
      "cell_type": "code",
      "execution_count": null,
      "metadata": {
        "id": "ZztrkmWqoThl"
      },
      "outputs": [],
      "source": [
        "def worker(t, worker_model, counter, params):\n",
        "    worker_env = gym.make(\"CartPole-v1\")\n",
        "    worker_env.reset()\n",
        "    worker_opt = optim.Adam(lr=1e-4,params=worker_model.parameters()) #A\n",
        "    worker_opt.zero_grad()\n",
        "    for i in range(params['epochs']):\n",
        "        worker_opt.zero_grad()\n",
        "        values, logprobs, rewards = run_episode(worker_env,worker_model) #B\n",
        "        actor_loss,critic_loss,eplen = update_params(worker_opt,values,logprobs,rewards) #C\n",
        "        counter.value = counter.value + 1 #D"
      ]
    },
    {
      "cell_type": "markdown",
      "metadata": {
        "id": "rq9AxBEhoThl"
      },
      "source": [
        "##### Listing 5.7"
      ]
    },
    {
      "cell_type": "code",
      "execution_count": null,
      "metadata": {
        "id": "MXy20iY2oThl"
      },
      "outputs": [],
      "source": [
        "def run_episode(worker_env, worker_model):\n",
        "    state = torch.from_numpy(worker_env.env.state).float() #A\n",
        "    values, logprobs, rewards = [],[],[] #B\n",
        "    done = False\n",
        "    j=0\n",
        "    while (done == False): #C\n",
        "        j+=1\n",
        "        policy, value = worker_model(state) #D\n",
        "        values.append(value)\n",
        "        logits = policy.view(-1)\n",
        "        action_dist = torch.distributions.Categorical(logits=logits)\n",
        "        action = action_dist.sample() #E\n",
        "        logprob_ = policy.view(-1)[action]\n",
        "        logprobs.append(logprob_)\n",
        "        state_, _, done, _, info = worker_env.step(action.detach().numpy())\n",
        "        state = torch.from_numpy(state_).float()\n",
        "        if done: #F\n",
        "            reward = -10\n",
        "            worker_env.reset()\n",
        "        else:\n",
        "            reward = 1.0\n",
        "        rewards.append(reward)\n",
        "    return values, logprobs, rewards"
      ]
    },
    {
      "cell_type": "markdown",
      "metadata": {
        "id": "9VfZoN6PoThm"
      },
      "source": [
        "##### Listing 5.8"
      ]
    },
    {
      "cell_type": "code",
      "execution_count": null,
      "metadata": {
        "id": "ip9scSRvoThm"
      },
      "outputs": [],
      "source": [
        "def update_params(worker_opt,values,logprobs,rewards,clc=0.1,gamma=0.95):\n",
        "        rewards = torch.Tensor(rewards).flip(dims=(0,)).view(-1) #A\n",
        "        logprobs = torch.stack(logprobs).flip(dims=(0,)).view(-1)\n",
        "        values = torch.stack(values).flip(dims=(0,)).view(-1)\n",
        "        Returns = []\n",
        "        ret_ = torch.Tensor([0])\n",
        "        for r in range(rewards.shape[0]): #B\n",
        "            ret_ = rewards[r] + gamma * ret_\n",
        "            Returns.append(ret_)\n",
        "        Returns = torch.stack(Returns).view(-1)\n",
        "        Returns = F.normalize(Returns,dim=0)\n",
        "        actor_loss = -1*logprobs * (Returns - values.detach()) #C\n",
        "        critic_loss = torch.pow(values - Returns,2) #D\n",
        "        loss = actor_loss.sum() + clc*critic_loss.sum() #E\n",
        "        loss.backward()\n",
        "        worker_opt.step()\n",
        "        return actor_loss, critic_loss, len(rewards)"
      ]
    },
    {
      "cell_type": "markdown",
      "metadata": {
        "id": "2qKYKynUoThm"
      },
      "source": [
        "##### Listing 5.5"
      ]
    },
    {
      "cell_type": "code",
      "execution_count": null,
      "metadata": {
        "colab": {
          "base_uri": "https://localhost:8080/"
        },
        "id": "hcJYwc5MoThm",
        "outputId": "a81046df-8398-44e6-caee-c8de93bf3a50"
      },
      "outputs": [
        {
          "output_type": "stream",
          "name": "stderr",
          "text": [
            "/usr/local/lib/python3.10/dist-packages/gym/utils/passive_env_checker.py:241: DeprecationWarning: `np.bool8` is a deprecated alias for `np.bool_`.  (Deprecated NumPy 1.24)\n",
            "  if not isinstance(terminated, (bool, np.bool8)):\n",
            "/usr/local/lib/python3.10/dist-packages/gym/utils/passive_env_checker.py:241: DeprecationWarning: `np.bool8` is a deprecated alias for `np.bool_`.  (Deprecated NumPy 1.24)\n",
            "  if not isinstance(terminated, (bool, np.bool8)):\n",
            "/usr/local/lib/python3.10/dist-packages/gym/utils/passive_env_checker.py:241: DeprecationWarning: `np.bool8` is a deprecated alias for `np.bool_`.  (Deprecated NumPy 1.24)\n",
            "  if not isinstance(terminated, (bool, np.bool8)):\n",
            "/usr/local/lib/python3.10/dist-packages/gym/utils/passive_env_checker.py:241: DeprecationWarning: `np.bool8` is a deprecated alias for `np.bool_`.  (Deprecated NumPy 1.24)\n",
            "  if not isinstance(terminated, (bool, np.bool8)):\n",
            "Process Process-17:\n",
            "/usr/local/lib/python3.10/dist-packages/gym/utils/passive_env_checker.py:241: DeprecationWarning: `np.bool8` is a deprecated alias for `np.bool_`.  (Deprecated NumPy 1.24)\n",
            "  if not isinstance(terminated, (bool, np.bool8)):\n",
            "/usr/local/lib/python3.10/dist-packages/gym/utils/passive_env_checker.py:241: DeprecationWarning: `np.bool8` is a deprecated alias for `np.bool_`.  (Deprecated NumPy 1.24)\n",
            "  if not isinstance(terminated, (bool, np.bool8)):\n",
            "/usr/local/lib/python3.10/dist-packages/gym/utils/passive_env_checker.py:241: DeprecationWarning: `np.bool8` is a deprecated alias for `np.bool_`.  (Deprecated NumPy 1.24)\n",
            "  if not isinstance(terminated, (bool, np.bool8)):\n",
            "Process Process-18:\n",
            "Traceback (most recent call last):\n",
            "Process Process-20:\n",
            "Process Process-21:\n",
            "Process Process-23:\n",
            "  File \"/usr/lib/python3.10/multiprocessing/process.py\", line 314, in _bootstrap\n",
            "    self.run()\n",
            "Traceback (most recent call last):\n",
            "Traceback (most recent call last):\n",
            "Traceback (most recent call last):\n",
            "  File \"/usr/lib/python3.10/multiprocessing/process.py\", line 314, in _bootstrap\n",
            "    self.run()\n",
            "  File \"/usr/lib/python3.10/multiprocessing/process.py\", line 108, in run\n",
            "    self._target(*self._args, **self._kwargs)\n",
            "  File \"/usr/lib/python3.10/multiprocessing/process.py\", line 314, in _bootstrap\n",
            "    self.run()\n",
            "Process Process-22:\n",
            "  File \"/usr/lib/python3.10/multiprocessing/process.py\", line 314, in _bootstrap\n",
            "    self.run()\n",
            "  File \"<ipython-input-12-cacb6a87066b>\", line 8, in worker\n",
            "    values, logprobs, rewards = run_episode(worker_env,worker_model) #B\n",
            "  File \"/usr/lib/python3.10/multiprocessing/process.py\", line 108, in run\n",
            "    self._target(*self._args, **self._kwargs)\n",
            "Traceback (most recent call last):\n",
            "  File \"/usr/lib/python3.10/multiprocessing/process.py\", line 108, in run\n",
            "    self._target(*self._args, **self._kwargs)\n",
            "Process Process-19:\n",
            "Traceback (most recent call last):\n",
            "  File \"<ipython-input-12-cacb6a87066b>\", line 8, in worker\n",
            "    values, logprobs, rewards = run_episode(worker_env,worker_model) #B\n",
            "  File \"/usr/lib/python3.10/multiprocessing/process.py\", line 314, in _bootstrap\n",
            "    self.run()\n",
            "  File \"/usr/lib/python3.10/multiprocessing/process.py\", line 108, in run\n",
            "    self._target(*self._args, **self._kwargs)\n",
            "  File \"<ipython-input-13-4c109c72850c>\", line 15, in run_episode\n",
            "    state_, _, done, _, info = worker_env.step(action.detach().numpy())\n",
            "  File \"<ipython-input-12-cacb6a87066b>\", line 8, in worker\n",
            "    values, logprobs, rewards = run_episode(worker_env,worker_model) #B\n",
            "Traceback (most recent call last):\n",
            "  File \"/usr/lib/python3.10/multiprocessing/process.py\", line 314, in _bootstrap\n",
            "    self.run()\n",
            "  File \"<ipython-input-13-4c109c72850c>\", line 15, in run_episode\n",
            "    state_, _, done, _, info = worker_env.step(action.detach().numpy())\n",
            "  File \"<ipython-input-13-4c109c72850c>\", line 15, in run_episode\n",
            "    state_, _, done, _, info = worker_env.step(action.detach().numpy())\n",
            "ValueError: not enough values to unpack (expected 5, got 4)\n",
            "  File \"/usr/lib/python3.10/multiprocessing/process.py\", line 108, in run\n",
            "    self._target(*self._args, **self._kwargs)\n",
            "  File \"/usr/lib/python3.10/multiprocessing/process.py\", line 108, in run\n",
            "    self._target(*self._args, **self._kwargs)\n",
            "ValueError: not enough values to unpack (expected 5, got 4)\n",
            "  File \"/usr/lib/python3.10/multiprocessing/process.py\", line 314, in _bootstrap\n",
            "    self.run()\n",
            "  File \"<ipython-input-12-cacb6a87066b>\", line 8, in worker\n",
            "    values, logprobs, rewards = run_episode(worker_env,worker_model) #B\n",
            "ValueError: not enough values to unpack (expected 5, got 4)\n",
            "  File \"<ipython-input-12-cacb6a87066b>\", line 8, in worker\n",
            "    values, logprobs, rewards = run_episode(worker_env,worker_model) #B\n",
            "  File \"<ipython-input-13-4c109c72850c>\", line 15, in run_episode\n",
            "    state_, _, done, _, info = worker_env.step(action.detach().numpy())\n",
            "  File \"/usr/lib/python3.10/multiprocessing/process.py\", line 108, in run\n",
            "    self._target(*self._args, **self._kwargs)\n",
            "  File \"<ipython-input-12-cacb6a87066b>\", line 8, in worker\n",
            "    values, logprobs, rewards = run_episode(worker_env,worker_model) #B\n",
            "  File \"<ipython-input-13-4c109c72850c>\", line 15, in run_episode\n",
            "    state_, _, done, _, info = worker_env.step(action.detach().numpy())\n",
            "  File \"<ipython-input-13-4c109c72850c>\", line 15, in run_episode\n",
            "    state_, _, done, _, info = worker_env.step(action.detach().numpy())\n",
            "ValueError: not enough values to unpack (expected 5, got 4)\n",
            "ValueError: not enough values to unpack (expected 5, got 4)\n",
            "  File \"<ipython-input-12-cacb6a87066b>\", line 8, in worker\n",
            "    values, logprobs, rewards = run_episode(worker_env,worker_model) #B\n",
            "ValueError: not enough values to unpack (expected 5, got 4)\n",
            "  File \"<ipython-input-13-4c109c72850c>\", line 15, in run_episode\n",
            "    state_, _, done, _, info = worker_env.step(action.detach().numpy())\n",
            "ValueError: not enough values to unpack (expected 5, got 4)\n"
          ]
        },
        {
          "output_type": "stream",
          "name": "stdout",
          "text": [
            "0 1\n"
          ]
        }
      ],
      "source": [
        "MasterNode = ActorCritic() #A\n",
        "MasterNode.share_memory() #B\n",
        "processes = [] #C\n",
        "params = {\n",
        "    'epochs':1000,\n",
        "    'n_workers':7,\n",
        "}\n",
        "counter = mp.Value('i',0) #D\n",
        "for i in range(params['n_workers']):\n",
        "    p = mp.Process(target=worker, args=(i,MasterNode,counter,params)) #E\n",
        "    p.start()\n",
        "    processes.append(p)\n",
        "for p in processes: #F\n",
        "    p.join()\n",
        "for p in processes: #G\n",
        "    p.terminate()\n",
        "\n",
        "print(counter.value,processes[1].exitcode) #H"
      ]
    },
    {
      "cell_type": "markdown",
      "metadata": {
        "id": "YxI9ThoGoThn"
      },
      "source": [
        "##### Test the trained agent"
      ]
    },
    {
      "cell_type": "code",
      "source": [
        "!pip install gym\n",
        "!pip install torch"
      ],
      "metadata": {
        "colab": {
          "base_uri": "https://localhost:8080/"
        },
        "id": "ccXNem2Zwl-Y",
        "outputId": "13cac29f-32a4-4653-92f9-0501eacf3d12"
      },
      "execution_count": null,
      "outputs": [
        {
          "output_type": "stream",
          "name": "stdout",
          "text": [
            "Requirement already satisfied: gym in /usr/local/lib/python3.10/dist-packages (0.25.2)\n",
            "Requirement already satisfied: numpy>=1.18.0 in /usr/local/lib/python3.10/dist-packages (from gym) (1.26.4)\n",
            "Requirement already satisfied: cloudpickle>=1.2.0 in /usr/local/lib/python3.10/dist-packages (from gym) (3.1.0)\n",
            "Requirement already satisfied: gym-notices>=0.0.4 in /usr/local/lib/python3.10/dist-packages (from gym) (0.0.8)\n",
            "Requirement already satisfied: torch in /usr/local/lib/python3.10/dist-packages (2.5.0+cu121)\n",
            "Requirement already satisfied: filelock in /usr/local/lib/python3.10/dist-packages (from torch) (3.16.1)\n",
            "Requirement already satisfied: typing-extensions>=4.8.0 in /usr/local/lib/python3.10/dist-packages (from torch) (4.12.2)\n",
            "Requirement already satisfied: networkx in /usr/local/lib/python3.10/dist-packages (from torch) (3.4.2)\n",
            "Requirement already satisfied: jinja2 in /usr/local/lib/python3.10/dist-packages (from torch) (3.1.4)\n",
            "Requirement already satisfied: fsspec in /usr/local/lib/python3.10/dist-packages (from torch) (2024.10.0)\n",
            "Requirement already satisfied: sympy==1.13.1 in /usr/local/lib/python3.10/dist-packages (from torch) (1.13.1)\n",
            "Requirement already satisfied: mpmath<1.4,>=1.1.0 in /usr/local/lib/python3.10/dist-packages (from sympy==1.13.1->torch) (1.3.0)\n",
            "Requirement already satisfied: MarkupSafe>=2.0 in /usr/local/lib/python3.10/dist-packages (from jinja2->torch) (3.0.2)\n"
          ]
        }
      ]
    },
    {
      "cell_type": "code",
      "execution_count": null,
      "metadata": {
        "colab": {
          "base_uri": "https://localhost:8080/"
        },
        "id": "9K2DFeZ-oThn",
        "outputId": "d7d96332-3f87-4c0d-f6b9-9f1b94f9908f"
      },
      "outputs": [
        {
          "output_type": "stream",
          "name": "stderr",
          "text": [
            "/usr/local/lib/python3.10/dist-packages/gym/core.py:49: DeprecationWarning: \u001b[33mWARN: You are calling render method, but you didn't specified the argument render_mode at environment initialization. To maintain backward compatibility, the environment will render in human mode.\n",
            "If you want to render in human mode, initialize the environment in this way: gym.make('EnvName', render_mode='human') and don't call the render method.\n",
            "See here for more information: https://www.gymlibrary.ml/content/api/\u001b[0m\n",
            "  deprecation(\n",
            "/usr/local/lib/python3.10/dist-packages/pygame/pkgdata.py:25: DeprecationWarning: pkg_resources is deprecated as an API. See https://setuptools.pypa.io/en/latest/pkg_resources.html\n",
            "  from pkg_resources import resource_stream, resource_exists\n",
            "/usr/local/lib/python3.10/dist-packages/pkg_resources/__init__.py:3154: DeprecationWarning: Deprecated call to `pkg_resources.declare_namespace('google')`.\n",
            "Implementing implicit namespace packages (as specified in PEP 420) is preferred to `pkg_resources.declare_namespace`. See https://setuptools.pypa.io/en/latest/references/keywords.html#keyword-namespace-packages\n",
            "  declare_namespace(pkg)\n",
            "/usr/local/lib/python3.10/dist-packages/pkg_resources/__init__.py:3154: DeprecationWarning: Deprecated call to `pkg_resources.declare_namespace('google.cloud')`.\n",
            "Implementing implicit namespace packages (as specified in PEP 420) is preferred to `pkg_resources.declare_namespace`. See https://setuptools.pypa.io/en/latest/references/keywords.html#keyword-namespace-packages\n",
            "  declare_namespace(pkg)\n",
            "/usr/local/lib/python3.10/dist-packages/pkg_resources/__init__.py:3154: DeprecationWarning: Deprecated call to `pkg_resources.declare_namespace('sphinxcontrib')`.\n",
            "Implementing implicit namespace packages (as specified in PEP 420) is preferred to `pkg_resources.declare_namespace`. See https://setuptools.pypa.io/en/latest/references/keywords.html#keyword-namespace-packages\n",
            "  declare_namespace(pkg)\n",
            "/usr/local/lib/python3.10/dist-packages/gym/core.py:49: DeprecationWarning: \u001b[33mWARN: You are calling render method, but you didn't specified the argument render_mode at environment initialization. To maintain backward compatibility, the environment will render in human mode.\n",
            "If you want to render in human mode, initialize the environment in this way: gym.make('EnvName', render_mode='human') and don't call the render method.\n",
            "See here for more information: https://www.gymlibrary.ml/content/api/\u001b[0m\n",
            "  deprecation(\n"
          ]
        },
        {
          "output_type": "stream",
          "name": "stdout",
          "text": [
            "Lost\n",
            "Lost\n"
          ]
        }
      ],
      "source": [
        "import gym\n",
        "import numpy\n",
        "import torch\n",
        "env = gym.make(\"CartPole-v1\")\n",
        "env.reset()\n",
        "\n",
        "for i in range(100):\n",
        "    state_ = np.array(env.env.state)\n",
        "    state = torch.from_numpy(state_).float()\n",
        "    logits,value = MasterNode(state)\n",
        "    action_dist = torch.distributions.Categorical(logits=logits)\n",
        "    action = action_dist.sample()\n",
        "    state2, reward, done, info = env.step(action.detach().numpy())\n",
        "    if done:\n",
        "        print(\"Lost\")\n",
        "        env.reset()\n",
        "    state_ = np.array(env.env.state)\n",
        "    state = torch.from_numpy(state_).float()\n",
        "    env.render()"
      ]
    },
    {
      "cell_type": "markdown",
      "metadata": {
        "id": "72fDg-wCoThn"
      },
      "source": [
        "##### Listing 5.9"
      ]
    },
    {
      "cell_type": "code",
      "execution_count": null,
      "metadata": {
        "id": "SQOciDYjoThn"
      },
      "outputs": [],
      "source": [
        "def run_episode(worker_env, worker_model, N_steps=10):\n",
        "    raw_state = np.array(worker_env.env.state)\n",
        "    state = torch.from_numpy(raw_state).float()\n",
        "    values, logprobs, rewards = [],[],[]\n",
        "    done = False\n",
        "    j=0\n",
        "    G=torch.Tensor([0]) #A\n",
        "    while (j < N_steps and done == False): #B\n",
        "        j+=1\n",
        "        policy, value = worker_model(state)\n",
        "        values.append(value)\n",
        "        logits = policy.view(-1)\n",
        "        action_dist = torch.distributions.Categorical(logits=logits)\n",
        "        action = action_dist.sample()\n",
        "        logprob_ = policy.view(-1)[action]\n",
        "        logprobs.append(logprob_)\n",
        "        state_, _, done, info = worker_env.step(action.detach().numpy())\n",
        "        state = torch.from_numpy(state_).float()\n",
        "        if done:\n",
        "            reward = -10\n",
        "            worker_env.reset()\n",
        "        else: #C\n",
        "            reward = 1.0\n",
        "            G = value.detach()\n",
        "        rewards.append(reward)\n",
        "    return values, logprobs, rewards, G"
      ]
    },
    {
      "cell_type": "markdown",
      "metadata": {
        "id": "6BEEnnl2oTho"
      },
      "source": [
        "##### Listing 5.10"
      ]
    },
    {
      "cell_type": "code",
      "execution_count": null,
      "metadata": {
        "id": "RZ_Oe88doTho",
        "colab": {
          "base_uri": "https://localhost:8080/"
        },
        "outputId": "9ed71bbd-3e38-4fb9-8ee9-94df90727810"
      },
      "outputs": [
        {
          "output_type": "stream",
          "name": "stdout",
          "text": [
            "No bootstrapping\n",
            "0.010000000000000009 1.99\n",
            "With bootstrapping\n",
            "0.9901 2.9701\n"
          ]
        }
      ],
      "source": [
        "#Simulated rewards for 3 steps\n",
        "r1 = [1,1,-1]\n",
        "r2 = [1,1,1]\n",
        "R1,R2 = 0.0,0.0\n",
        "#No bootstrapping\n",
        "for i in range(len(r1)-1,0,-1):\n",
        "    R1 = r1[i] + 0.99*R1\n",
        "for i in range(len(r2)-1,0,-1):\n",
        "    R2 = r2[i] + 0.99*R2\n",
        "print(\"No bootstrapping\")\n",
        "print(R1,R2)\n",
        "#With bootstrapping\n",
        "R1,R2 = 1.0,1.0\n",
        "for i in range(len(r1)-1,0,-1):\n",
        "    R1 = r1[i] + 0.99*R1\n",
        "for i in range(len(r2)-1,0,-1):\n",
        "    R2 = r2[i] + 0.99*R2\n",
        "print(\"With bootstrapping\")\n",
        "print(R1,R2)"
      ]
    },
    {
      "cell_type": "code",
      "execution_count": null,
      "metadata": {
        "id": "n-sbYXWSoTho"
      },
      "outputs": [],
      "source": []
    }
  ],
  "metadata": {
    "kernelspec": {
      "display_name": "Python 3 (ipykernel)",
      "language": "python",
      "name": "python3"
    },
    "language_info": {
      "codemirror_mode": {
        "name": "ipython",
        "version": 3
      },
      "file_extension": ".py",
      "mimetype": "text/x-python",
      "name": "python",
      "nbconvert_exporter": "python",
      "pygments_lexer": "ipython3",
      "version": "3.10.12"
    },
    "colab": {
      "provenance": []
    }
  },
  "nbformat": 4,
  "nbformat_minor": 0
}