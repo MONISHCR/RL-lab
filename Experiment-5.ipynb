{
  "cells": [
    {
      "cell_type": "markdown",
      "metadata": {
        "id": "mXlMKfDOaz_e"
      },
      "source": [
        "### Deep Reinfocement Learning - Evolution Strategies - Chapter 5"
      ]
    },
    {
      "cell_type": "code",
      "execution_count": 1,
      "metadata": {
        "id": "H_vPh52baz_f"
      },
      "outputs": [],
      "source": [
        "import random\n",
        "from matplotlib import pyplot as plt"
      ]
    },
    {
      "cell_type": "code",
      "execution_count": 2,
      "metadata": {
        "id": "vyb43EI3az_f"
      },
      "outputs": [],
      "source": [
        "alphabet = \"abcdefghijklmnopqrstuvwxyzABCDEFGHIJKLMNOPQRSTUVWXYZ,.! \"\n",
        "target = \"Hello World!\""
      ]
    },
    {
      "cell_type": "code",
      "execution_count": 3,
      "metadata": {
        "id": "xK0dCnAEaz_g"
      },
      "outputs": [],
      "source": [
        "class Individual:\n",
        "    def __init__(self, string, fitness=0):\n",
        "        self.string = string\n",
        "        self.fitness = fitness"
      ]
    },
    {
      "cell_type": "code",
      "execution_count": 4,
      "metadata": {
        "id": "qaEBSmWBaz_g"
      },
      "outputs": [],
      "source": [
        "from difflib import SequenceMatcher\n",
        "\n",
        "def similar(a, b):\n",
        "    return SequenceMatcher(None, a, b).ratio()"
      ]
    },
    {
      "cell_type": "code",
      "execution_count": 5,
      "metadata": {
        "id": "0OExjPcjaz_g"
      },
      "outputs": [],
      "source": [
        "def spawn_population(length=26,size=100):\n",
        "    pop = []\n",
        "    for i in range(size):\n",
        "        string = ''.join(random.choices(alphabet,k=length))\n",
        "        individual = Individual(string)\n",
        "        pop.append(individual)\n",
        "    return pop"
      ]
    },
    {
      "cell_type": "code",
      "execution_count": 6,
      "metadata": {
        "id": "NpSCLoHtaz_g"
      },
      "outputs": [],
      "source": [
        "def mutate(x, mut_rate=0.01):\n",
        "    new_x_ = []\n",
        "    for char in x.string:\n",
        "        if random.random() < mut_rate:\n",
        "            new_x_.extend(random.choices(alphabet,k=1))\n",
        "        else:\n",
        "            new_x_.append(char)\n",
        "    new_x = Individual(''.join(new_x_))\n",
        "    return new_x"
      ]
    },
    {
      "cell_type": "code",
      "execution_count": 7,
      "metadata": {
        "id": "mzrsI1PTaz_g"
      },
      "outputs": [],
      "source": [
        "def recombine(p1_, p2_): #produces two children from two parents\n",
        "    p1 = p1_.string\n",
        "    p2 = p2_.string\n",
        "    child1 = []\n",
        "    child2 = []\n",
        "    cross_pt = random.randint(0,len(p1))\n",
        "    child1.extend(p1[0:cross_pt])\n",
        "    child1.extend(p2[cross_pt:])\n",
        "    child2.extend(p2[0:cross_pt])\n",
        "    child2.extend(p1[cross_pt:])\n",
        "    c1 = Individual(''.join(child1))\n",
        "    c2 = Individual(''.join(child2))\n",
        "    return c1, c2"
      ]
    },
    {
      "cell_type": "code",
      "execution_count": 8,
      "metadata": {
        "id": "1qRFs3zoaz_h"
      },
      "outputs": [],
      "source": [
        "def evaluate_population(pop, target):\n",
        "    avg_fit = 0\n",
        "    for i in range(len(pop)):\n",
        "        fit = similar(pop[i].string, target)\n",
        "        pop[i].fitness = fit\n",
        "        avg_fit += fit\n",
        "    avg_fit /= len(pop)\n",
        "    return pop, avg_fit"
      ]
    },
    {
      "cell_type": "code",
      "execution_count": 9,
      "metadata": {
        "id": "8HHAxzboaz_h"
      },
      "outputs": [],
      "source": [
        "def next_generation(pop, size=100, length=26, mut_rate=0.01):\n",
        "    new_pop = []\n",
        "    while len(new_pop) < size:\n",
        "        parents = random.choices(pop,k=2, weights=[x.fitness for x in pop])\n",
        "        offspring_ = recombine(parents[0],parents[1])\n",
        "        offspring = [mutate(offspring_[0], mut_rate=mut_rate), mutate(offspring_[1], mut_rate=mut_rate)]\n",
        "        new_pop.extend(offspring) #add offspring to next generation\n",
        "    return new_pop"
      ]
    },
    {
      "cell_type": "code",
      "execution_count": 10,
      "metadata": {
        "id": "AYu6QvqXaz_h"
      },
      "outputs": [],
      "source": [
        "pop = spawn_population(length=len(target))"
      ]
    },
    {
      "cell_type": "code",
      "execution_count": 11,
      "metadata": {
        "colab": {
          "base_uri": "https://localhost:8080/"
        },
        "id": "QFZBK6Xjaz_h",
        "outputId": "62f29f2d-65c6-4bbb-9a80-907c7fa942e7"
      },
      "outputs": [
        {
          "output_type": "stream",
          "name": "stdout",
          "text": [
            "0.11250000000000007\n"
          ]
        }
      ],
      "source": [
        "pop, avg_fit = evaluate_population(pop, target)\n",
        "print(avg_fit)"
      ]
    },
    {
      "cell_type": "code",
      "execution_count": 12,
      "metadata": {
        "id": "JPWK5F0waz_h"
      },
      "outputs": [],
      "source": [
        "new_pop = next_generation(pop, length=len(target))"
      ]
    },
    {
      "cell_type": "code",
      "execution_count": 13,
      "metadata": {
        "colab": {
          "base_uri": "https://localhost:8080/"
        },
        "id": "eWC9sVe_az_i",
        "outputId": "1a6490cd-f2a6-44a7-84ff-6e8e3a35b535"
      },
      "outputs": [
        {
          "output_type": "execute_result",
          "data": {
            "text/plain": [
              "0"
            ]
          },
          "metadata": {},
          "execution_count": 13
        }
      ],
      "source": [
        "new_pop[10].fitness"
      ]
    },
    {
      "cell_type": "code",
      "execution_count": 14,
      "metadata": {
        "id": "5AnpVv_Oaz_i"
      },
      "outputs": [],
      "source": [
        "num_generations = 100\n",
        "population_size = 3000\n",
        "str_len = len(target)\n",
        "mutation_rate = 0.001 # 0.1% mutation rate per character"
      ]
    },
    {
      "cell_type": "code",
      "execution_count": 15,
      "metadata": {
        "id": "nbbYnJjDaz_i"
      },
      "outputs": [],
      "source": [
        "pop_fit = []\n",
        "pop = spawn_population(size=population_size, length=str_len) #initial population\n",
        "for gen in range(num_generations):\n",
        "    # trainning\n",
        "    pop, avg_fit = evaluate_population(pop, target)\n",
        "    pop_fit.append(avg_fit) #record population average fitness\n",
        "    new_pop = next_generation(pop, size=population_size, length=str_len, mut_rate=mutation_rate)\n",
        "    pop = new_pop"
      ]
    },
    {
      "cell_type": "code",
      "execution_count": 16,
      "metadata": {
        "colab": {
          "base_uri": "https://localhost:8080/",
          "height": 482
        },
        "id": "fmxyhhxcaz_i",
        "outputId": "e2a8aafe-fbea-48a7-d50b-9f0f3159c241"
      },
      "outputs": [
        {
          "output_type": "execute_result",
          "data": {
            "text/plain": [
              "[<matplotlib.lines.Line2D at 0x792f2c23aec0>]"
            ]
          },
          "metadata": {},
          "execution_count": 16
        },
        {
          "output_type": "display_data",
          "data": {
            "text/plain": [
              "<Figure size 1000x500 with 1 Axes>"
            ],
            "image/png": "[encoded data removed]"
          },
          "metadata": {}
        }
      ],
      "source": [
        "plt.figure(figsize=(10,5))\n",
        "plt.xlabel(\"Generations\")\n",
        "plt.ylabel(\"Fitness\")\n",
        "plt.plot(pop_fit)"
      ]
    },
    {
      "cell_type": "code",
      "execution_count": 17,
      "metadata": {
        "id": "aiWMww3Maz_i"
      },
      "outputs": [],
      "source": [
        "pop.sort(key=lambda x: x.fitness, reverse=True) #sort in place, highest fitness first"
      ]
    },
    {
      "cell_type": "code",
      "execution_count": 18,
      "metadata": {
        "colab": {
          "base_uri": "https://localhost:8080/",
          "height": 36
        },
        "id": "xoDOhMYUaz_i",
        "outputId": "711c80f9-5899-49ca-fbaf-88ab866cc77e"
      },
      "outputs": [
        {
          "output_type": "execute_result",
          "data": {
            "text/plain": [
              "'Helhlo Worl!'"
            ],
            "application/vnd.google.colaboratory.intrinsic+json": {
              "type": "string"
            }
          },
          "metadata": {},
          "execution_count": 18
        }
      ],
      "source": [
        "pop[0].string"
      ]
    },
    {
      "cell_type": "code",
      "execution_count": 18,
      "metadata": {
        "id": "6VIMQeNfaz_i"
      },
      "outputs": [],
      "source": []
    }
  ],
  "metadata": {
    "kernelspec": {
      "display_name": "Python 3 (ipykernel)",
      "language": "python",
      "name": "python3"
    },
    "language_info": {
      "codemirror_mode": {
        "name": "ipython",
        "version": 3
      },
      "file_extension": ".py",
      "mimetype": "text/x-python",
      "name": "python",
      "nbconvert_exporter": "python",
      "pygments_lexer": "ipython3",
      "version": "3.10.12"
    },
    "colab": {
      "provenance": []
    }
  },
  "nbformat": 4,
  "nbformat_minor": 0
}